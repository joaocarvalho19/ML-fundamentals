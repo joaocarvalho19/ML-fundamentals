{
 "cells": [
  {
   "cell_type": "markdown",
   "metadata": {},
   "source": [
    "#   Support Vector Machines (SVM)\n",
    "\n",
    "**Objectives**: Implement SVM classifiers  for linearly and nonlinearly separable datasets. \n",
    "\n",
    "SVM with Gaussian Radial Basis Function (RBF) kernel. \n",
    "\n",
    "Cross validation to select the best SVM parameters. "
   ]
  },
  {
   "cell_type": "code",
   "execution_count": 1,
   "metadata": {},
   "outputs": [],
   "source": [
    "#Import relevant libraries\n",
    "import numpy as np\n",
    "import pandas as pd\n",
    "import matplotlib.pyplot as plt\n",
    "\n",
    "#to load matlab mat files\n",
    "from scipy.io import loadmat"
   ]
  },
  {
   "cell_type": "markdown",
   "metadata": {},
   "source": [
    "### PART 1 - Linearly separable Data (linear SVM)\n",
    "\n",
    "File *ex6data1.mat* consists of 2D linearly separable dataset (i.e. with linear boundary between the two classes).  "
   ]
  },
  {
   "cell_type": "code",
   "execution_count": 3,
   "metadata": {},
   "outputs": [
    {
     "name": "stdout",
     "output_type": "stream",
     "text": [
      "number of training examples(m):  51\n"
     ]
    }
   ],
   "source": [
    "#Use loadmat to load the file ex6data1.mat as a dictionary with keys \"X\"  and \"y\". \n",
    "#Extract arrays X and y. Consult the code in Lab 4.\n",
    "\n",
    "mat=loadmat(\"ex6data1.mat\")\n",
    "\n",
    "# mat is a dict with key \"X\" for x-values, and key \"y\" for y values\n",
    "X=mat[\"X\"]\n",
    "y=mat[\"y\"]\n",
    "\n",
    "#number of training examples\n",
    "m= len(X)\n",
    "print(\"number of training examples(m): \", m)"
   ]
  },
  {
   "cell_type": "markdown",
   "metadata": {},
   "source": [
    "### Plot data\n",
    "\n",
    "Plot the data to get Fig.1. In this dataset, the positions of the positive examples (indicated with +) and the negative examples (indicated with o) suggest a natural separation indicated by the gap. However, notice that there is an outlier positive example + on the far left at about (0.1; 4.1). You will see how this outlier affects the SVM decision boundary.\n",
    "\n",
    "<img src=\"images/f1.png\" style=\"width:350px;height:250px;\">\n",
    "<caption><center> **Fig. 1 ** : **Dataset 1 (ex6data1.mat)** </center></caption>"
   ]
  },
  {
   "cell_type": "code",
   "execution_count": 7,
   "metadata": {},
   "outputs": [
    {
     "data": {
      "text/plain": [
       "[]"
      ]
     },
     "execution_count": 7,
     "metadata": {},
     "output_type": "execute_result"
    },
    {
     "data": {
      "image/png": "[encoded data removed]",
      "text/plain": [
       "<Figure size 432x288 with 1 Axes>"
      ]
     },
     "metadata": {
      "needs_background": "light"
     },
     "output_type": "display_data"
    }
   ],
   "source": [
    "# Create Fig.1. Use similar code as in Lab 3.  \n",
    "pos=(y==1)\n",
    "neg=(y==0)\n",
    "plt.scatter(X[pos[:,0],0],X[pos[:,0],1],c=\"r\",marker=\"+\")\n",
    "plt.scatter(X[neg[:,0],0],X[neg[:,0],1],c=\"b\",marker=\"o\")\n",
    "plt.plot()"
   ]
  },
  {
   "cell_type": "markdown",
   "metadata": {},
   "source": [
    "### SVM training\n",
    "\n",
    "Scikit-learn (sklearn) is a free machine learning library for Python. It features various algorithms like support vector machine, random forests k-neighbours. It also supports Python numerical and scientific libraries like NumPy and SciPy.\n",
    "\n",
    "From sklearn.svm import function SVC to train SVM classifier.\n",
    "Choose linear kernel and train with different values of parameter C (for example C=1, C=100). \n",
    "\n",
    "C parameter is a positive value that controls the penalty for misclassified training examples. A large C tells the SVM to try to classify all examples correctly. C plays a role similar to $1/\\lambda$ where $\\lambda$ is the regularization parameter used for Logistic Regression. \n",
    "\n",
    "When C = 1, you should find that SVM puts the decision boundary in the gap between the two datasets and misclassifies the data point on the far left. \n",
    "\n",
    "When C = 100, you should find that the SVM now classifies every single example correctly, but has a decision boundary that does not appear to be a natural data fit. \n"
   ]
  },
  {
   "cell_type": "code",
   "execution_count": 9,
   "metadata": {},
   "outputs": [
    {
     "name": "stdout",
     "output_type": "stream",
     "text": [
      "0.9803921568627451\n"
     ]
    }
   ],
   "source": [
    "from sklearn.svm import SVC\n",
    "\n",
    "# C = 1\n",
    "classifier = SVC(C=1, kernel=\"linear\")\n",
    "classifier.fit(X,np.ravel(y))\n",
    "print(classifier.score(X,y))  #ANSWER arround 98% accuracy\n"
   ]
  },
  {
   "cell_type": "markdown",
   "metadata": {},
   "source": [
    "### Plot data + decision boundary"
   ]
  },
  {
   "cell_type": "code",
   "execution_count": 10,
   "metadata": {},
   "outputs": [
    {
     "name": "stdout",
     "output_type": "stream",
     "text": [
      "(100, 100)\n",
      "(100, 100)\n"
     ]
    },
    {
     "data": {
      "image/png": "[encoded data removed]",
      "text/plain": [
       "<Figure size 432x288 with 1 Axes>"
      ]
     },
     "metadata": {
      "needs_background": "light"
     },
     "output_type": "display_data"
    }
   ],
   "source": [
    "#PLot the data as in Fig.1 \n",
    "pos=(y==1)\n",
    "neg=(y==0)\n",
    "plt.scatter(X[pos[:,0],0],X[pos[:,0],1],c=\"r\",marker=\"+\")\n",
    "plt.scatter(X[neg[:,0],0],X[neg[:,0],1],c=\"b\",marker=\"o\")\n",
    "plt.plot()\n",
    "\n",
    "\n",
    "# add the decision boundary line\n",
    "num=100\n",
    "X_1,X_2 = np.meshgrid(np.linspace(X[:,0].min(),X[:,1].max(),num),np.linspace(X[:,1].min(),X[:,1].max(),num))\n",
    "plt.contour(X_1,X_2,classifier.predict(np.array([X_1.ravel(),X_2.ravel()]).T).reshape(X_1.shape),1,colors=\"y\")\n",
    "\n",
    "print(X_1.shape)\n",
    "\n",
    "print(X_2.shape)"
   ]
  },
  {
   "cell_type": "code",
   "execution_count": 11,
   "metadata": {},
   "outputs": [
    {
     "name": "stdout",
     "output_type": "stream",
     "text": [
      "1.0\n"
     ]
    }
   ],
   "source": [
    "# Repeat SVM training for C = 100 and get accuracy 100%\n",
    "from sklearn.svm import SVC\n",
    "\n",
    "# C = 1\n",
    "classifier = SVC(C=100, kernel=\"linear\")\n",
    "classifier.fit(X,np.ravel(y))\n",
    "print(classifier.score(X,y))  #ANSWER arround 98% accuracy"
   ]
  },
  {
   "cell_type": "code",
   "execution_count": 12,
   "metadata": {},
   "outputs": [
    {
     "name": "stdout",
     "output_type": "stream",
     "text": [
      "(100, 100)\n",
      "(100, 100)\n"
     ]
    },
    {
     "data": {
      "image/png": "[encoded data removed]",
      "text/plain": [
       "<Figure size 432x288 with 1 Axes>"
      ]
     },
     "metadata": {
      "needs_background": "light"
     },
     "output_type": "display_data"
    }
   ],
   "source": [
    "#Plot data + decision boundary\n",
    "#PLot the data as in Fig.1 \n",
    "pos=(y==1)\n",
    "neg=(y==0)\n",
    "plt.scatter(X[pos[:,0],0],X[pos[:,0],1],c=\"r\",marker=\"+\")\n",
    "plt.scatter(X[neg[:,0],0],X[neg[:,0],1],c=\"b\",marker=\"o\")\n",
    "plt.plot()\n",
    "\n",
    "\n",
    "# add the decision boundary line\n",
    "num=100\n",
    "X_1,X_2 = np.meshgrid(np.linspace(X[:,0].min(),X[:,1].max(),num),np.linspace(X[:,1].min(),X[:,1].max(),num))\n",
    "plt.contour(X_1,X_2,classifier.predict(np.array([X_1.ravel(),X_2.ravel()]).T).reshape(X_1.shape),1,colors=\"y\")\n",
    "\n",
    "print(X_1.shape)\n",
    "\n",
    "print(X_2.shape)"
   ]
  },
  {
   "cell_type": "markdown",
   "metadata": {},
   "source": [
    "## PART 2 - Nonlinearly separable data  (SVM with Gaussian RBF Kernel)\n",
    "\n",
    "Repeat the steps as in Part 1 bu now with nonlinearly separable data and Gaussian rbf kernel SVM.  "
   ]
  },
  {
   "cell_type": "code",
   "execution_count": 14,
   "metadata": {},
   "outputs": [
    {
     "name": "stdout",
     "output_type": "stream",
     "text": [
      "number of training examples(m):  863\n"
     ]
    }
   ],
   "source": [
    "#Use loadmat to load the file ex6data2.mat as a dictionary with keys \"X\"  and \"y\". \n",
    "#Extract arrays X and y. Consult the code in Lab 4.\n",
    "\n",
    "mat=loadmat(\"ex6data2.mat\")\n",
    "\n",
    "# mat is a dict with key \"X\" for x-values, and key \"y\" for y values\n",
    "X2=mat[\"X\"]\n",
    "y2=mat[\"y\"]\n",
    "\n",
    "#number of training examples\n",
    "m= len(X2)\n",
    "print(\"number of training examples(m): \", m)"
   ]
  },
  {
   "cell_type": "markdown",
   "metadata": {},
   "source": [
    "### Plot data\n",
    "\n",
    "Plot the data to get Fig.2. From the figure, you can observe that there is nonlinear decision boundary that separates the + and - examples for this dataset. By using SVM with Gaussian kernel, you will be able to learn a nonlinear decision boundary that fits better this data set.\n",
    "\n",
    "<img src=\"images/f2.png\" style=\"width:350px;height:250px;\">\n",
    "<caption><center> **Fig.2 ** : **Dataset 2 (ex6data2.mat)** </center></caption>"
   ]
  },
  {
   "cell_type": "code",
   "execution_count": 17,
   "metadata": {},
   "outputs": [
    {
     "data": {
      "text/plain": [
       "[]"
      ]
     },
     "execution_count": 17,
     "metadata": {},
     "output_type": "execute_result"
    },
    {
     "data": {
      "image/png": "[encoded data removed]",
      "text/plain": [
       "<Figure size 432x288 with 1 Axes>"
      ]
     },
     "metadata": {
      "needs_background": "light"
     },
     "output_type": "display_data"
    }
   ],
   "source": [
    "# Create Fig.2. Use similar code as in Part 1 (above).  \n",
    "pos=(y2==1)\n",
    "neg=(y2==0)\n",
    "plt.scatter(X2[pos[:,0],0],X2[pos[:,0],1],c=\"r\",marker=\"+\")\n",
    "plt.scatter(X2[neg[:,0],0],X2[neg[:,0],1],c=\"b\",marker=\"o\")\n",
    "plt.plot()"
   ]
  },
  {
   "cell_type": "markdown",
   "metadata": {},
   "source": [
    "### Gaussian SVM training\n",
    "\n",
    "Choose *rbf* (Radial Basis Function) kernel, which corresponds to Gaussian kernel. \n",
    "\n",
    "**gamma** parameter is the inverse of the standard deviation of the RBF kernel (gamma = $1/\\sigma$). \n",
    "**gamma** is used as a similarity measure between two points. \n",
    "\n",
    "Small gamma value defines a Gaussian function with a large variance => two points are considered similar even if they are relatively far away from each other. \n",
    "\n",
    "Large gamma value defines a Gaussian function with a small variance => two points are considered similar if they are very close to each other."
   ]
  },
  {
   "cell_type": "code",
   "execution_count": 22,
   "metadata": {},
   "outputs": [
    {
     "name": "stdout",
     "output_type": "stream",
     "text": [
      "0.9721900347624566\n"
     ]
    }
   ],
   "source": [
    "#call SVC with rbf kernel and gamma =30 and get a score of arround 97% accuracy\n",
    "classifier = SVC(kernel=\"rbf\", gamma =30)\n",
    "classifier.fit(X2,np.ravel(y2))\n",
    "print(classifier.score(X2,y2))  #ANSWER arround 98% accuracy"
   ]
  },
  {
   "cell_type": "markdown",
   "metadata": {},
   "source": [
    "### Plot data + decision boundary\n",
    "\n",
    "Observe that the decision boundary is able to separate most of the positive and negative examples correctly. "
   ]
  },
  {
   "cell_type": "code",
   "execution_count": 23,
   "metadata": {},
   "outputs": [
    {
     "name": "stdout",
     "output_type": "stream",
     "text": [
      "(100, 100)\n",
      "(100, 100)\n"
     ]
    },
    {
     "data": {
      "image/png": "[encoded data removed]",
      "text/plain": [
       "<Figure size 432x288 with 1 Axes>"
      ]
     },
     "metadata": {
      "needs_background": "light"
     },
     "output_type": "display_data"
    }
   ],
   "source": [
    "#Consut the code in Part 1\n",
    "pos=(y2==1)\n",
    "neg=(y2==0)\n",
    "plt.scatter(X2[pos[:,0],0],X2[pos[:,0],1],c=\"r\",marker=\"+\")\n",
    "plt.scatter(X2[neg[:,0],0],X2[neg[:,0],1],c=\"b\",marker=\"o\")\n",
    "plt.plot()\n",
    "\n",
    "\n",
    "# add the decision boundary line\n",
    "num=100\n",
    "X_1,X_2 = np.meshgrid(np.linspace(X2[:,0].min(),X2[:,1].max(),num),np.linspace(X2[:,1].min(),X2[:,1].max(),num))\n",
    "plt.contour(X_1,X_2,classifier.predict(np.array([X_1.ravel(),X_2.ravel()]).T).reshape(X_1.shape),1,colors=\"y\")\n",
    "\n",
    "print(X_1.shape)\n",
    "\n",
    "print(X_2.shape)"
   ]
  },
  {
   "cell_type": "markdown",
   "metadata": {},
   "source": [
    "### PART 3  - Nonlinear SVM with Gaussian Kernels, optimization of C and  $\\sigma$ (Dataset 3)\n",
    "\n",
    "File *ex6data3.mat* contains training data (X,y) and validation data (Xval, yval). \n",
    "Load them and plot the training data to get Fig.3. \n",
    "\n",
    "<img src=\"images/f3.png\" style=\"width:350px;height:250px;\">\n",
    "<caption><center> **Fig.3 ** : **Dataset 3 (ex6data3.mat)** </center></caption>"
   ]
  },
  {
   "cell_type": "code",
   "execution_count": 26,
   "metadata": {},
   "outputs": [
    {
     "name": "stdout",
     "output_type": "stream",
     "text": [
      "number of training examples(m):  211\n"
     ]
    }
   ],
   "source": [
    "#call loadmat to load the file ex6data3.mat as a dictionary with keys \"X\", \"y\", \"Xval\", \"yval\"\n",
    "\n",
    "mat=loadmat(\"ex6data3.mat\")\n",
    "\n",
    "# mat is a dict with key \"X\" for x-values, and key \"y\" for y values\n",
    "X3=mat[\"X\"]\n",
    "y3=mat[\"y\"]\n",
    "Xval=mat[\"Xval\"]\n",
    "yval=mat[\"yval\"]\n",
    "\n",
    "#number of training examples\n",
    "m= len(X3)\n",
    "print(\"number of training examples(m): \", m)"
   ]
  },
  {
   "cell_type": "code",
   "execution_count": 27,
   "metadata": {},
   "outputs": [
    {
     "data": {
      "text/plain": [
       "[]"
      ]
     },
     "execution_count": 27,
     "metadata": {},
     "output_type": "execute_result"
    },
    {
     "data": {
      "image/png": "[encoded data removed]",
      "text/plain": [
       "<Figure size 432x288 with 1 Axes>"
      ]
     },
     "metadata": {
      "needs_background": "light"
     },
     "output_type": "display_data"
    }
   ],
   "source": [
    "# Create Fig.3. Use similar code as above. \n",
    "pos=(y3==1)\n",
    "neg=(y3==0)\n",
    "plt.scatter(X3[pos[:,0],0],X3[pos[:,0],1],c=\"r\",marker=\"+\")\n",
    "plt.scatter(X3[neg[:,0],0],X3[neg[:,0],1],c=\"y\",marker=\"o\")\n",
    "plt.plot()"
   ]
  },
  {
   "cell_type": "markdown",
   "metadata": {},
   "source": [
    "### Hyperparameter tuning\n",
    "\n",
    "The task is to use the validation set Xval, yval to determine the best C and  $\\sigma$ parameters.\n",
    "\n",
    "For both C and $\\sigma$, it is suggested to try the following values (0.01; 0.03; 0.1; 0.3; 1; 3; 10; 30). \n",
    "\n",
    "Function *dataset3Params* tries all possible pairs of values for C and  $\\sigma$. For example, for the 8 values listed above, a total of 8^2 = 64 different models will be trained and evaluated (on the validation set). For the best parameters, the SVM should return a decision boundary similar to Fig. 4.\n",
    "\n",
    "<img src=\"images/f4.png\" style=\"width:350px;height:250px;\">\n",
    "<caption><center> **Fig.4 ** : **Dataset 3 (ex6data3.mat)** </center></caption>"
   ]
  },
  {
   "cell_type": "code",
   "execution_count": null,
   "metadata": {},
   "outputs": [],
   "source": [
    "def dataset3Params(X, y, Xval, yval,vals):\n",
    "    \"\"\"\n",
    "    dataset3Params returns the optimal C and gamma(1/sigma) based on a cross-validation set.\n",
    "    \"\"\"\n",
    "    acc = 0\n",
    "    best_C=0\n",
    "    best_gamma=0\n",
    "    for i in vals:\n",
    "        C= i\n",
    "        for j in vals:\n",
    "            gamma = 1/j\n",
    "            classifier = SVC(C=C,gamma=gamma)\n",
    "            classifier.fit(X,y)\n",
    "            prediction = classifier.predict(Xval)\n",
    "            score = classifier.score(Xval,yval)\n",
    "            if score>acc:\n",
    "                acc =score\n",
    "                best_C =C\n",
    "                best_gamma=gamma\n",
    "    return best_C, best_gamma"
   ]
  },
  {
   "cell_type": "code",
   "execution_count": null,
   "metadata": {},
   "outputs": [],
   "source": [
    "vals = ?\n",
    "best_C, best_gamma = dataset3Params(X3, y3.ravel(), Xval, yval.ravel(),vals)\n",
    "\n",
    "#What are the best C and sigma ?\n",
    "?\n",
    "\n",
    "#Build an SVM classifier with the best C and gamma and get classifier score of about 95% ? (training data accuracy) \n",
    "?\n",
    "\n",
    "print(yval.shape)\n",
    "\n",
    "print(y.shape)"
   ]
  },
  {
   "cell_type": "markdown",
   "metadata": {},
   "source": [
    "### Plot data + decision boundary"
   ]
  },
  {
   "cell_type": "code",
   "execution_count": null,
   "metadata": {},
   "outputs": [],
   "source": [
    "#Create Fig.4\n",
    "?"
   ]
  },
  {
   "cell_type": "code",
   "execution_count": null,
   "metadata": {},
   "outputs": [],
   "source": []
  }
 ],
 "metadata": {
  "kernelspec": {
   "display_name": "Python 3",
   "language": "python",
   "name": "python3"
  },
  "language_info": {
   "codemirror_mode": {
    "name": "ipython",
    "version": 3
   },
   "file_extension": ".py",
   "mimetype": "text/x-python",
   "name": "python",
   "nbconvert_exporter": "python",
   "pygments_lexer": "ipython3",
   "version": "3.8.8"
  }
 },
 "nbformat": 4,
 "nbformat_minor": 2
}
