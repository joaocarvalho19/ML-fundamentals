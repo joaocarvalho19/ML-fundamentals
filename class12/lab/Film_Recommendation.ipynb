{
 "cells": [
  {
   "cell_type": "markdown",
   "metadata": {},
   "source": [
    "# Lab - Collaborative Recommender System\n",
    "\n",
    "In this lab you will implement the collaborative ﬁltering learning algorithm and apply it to a dataset of movie ratings. \n",
    "\n",
    "MovieLens 100k Dataset from GroupLens Research (https://grouplens.org/datasets/movielens/). \n",
    "\n",
    "This dataset consists of ratings on a scale of 1 to 5. The dataset has $n_u$ = 943 users, and\n",
    "$n_m$ = 1682 movies. "
   ]
  },
  {
   "cell_type": "code",
   "execution_count": null,
   "metadata": {},
   "outputs": [],
   "source": [
    "#Load relevant libraries\n",
    "\n",
    "import numpy as np\n",
    "import matplotlib.pyplot as plt\n",
    "from scipy.io import loadmat\n",
    "import pandas as pd"
   ]
  },
  {
   "cell_type": "markdown",
   "metadata": {},
   "source": [
    "  ## Load the data\n",
    "Load the matrices $Y$ and $R$ from matlab file *ex8_movies.mat*. \n",
    " \n",
    "$Y$ (*num_movies × num_users*)  stores the ratings $y^{(i,j)}$\n",
    "(from 1 to 5). \n",
    "\n",
    "$R$ is an binary-valued indicator matrix, where $R(i, j)$ = 1 if user $j$ gave a rating to movie $i$, and $R(i, j)$ = 0 otherwise. \n",
    "\n",
    "The objective of collaborative ﬁltering is to predict movie ratings for the movies\n",
    "that users have not yet rated, that is, the entries with $R(i, j) = 0$. This will allow us to recommend the movies with the highest predicted ratings to the user."
   ]
  },
  {
   "cell_type": "code",
   "execution_count": null,
   "metadata": {},
   "outputs": [],
   "source": [
    "# Load Y and R\n",
    "\n",
    "Y = ?    # 1682 X 943 matrix, containing ratings (1-5) of 1682 movies on 943 user\n",
    "\n",
    "R =  ?   # 1682 X 943 matrix, R(i,j) = 1 if and only if user j give rating to movie i\n",
    "\n",
    "# Confirm the shapes of Y and R\n",
    "\n",
    "?"
   ]
  },
  {
   "cell_type": "code",
   "execution_count": null,
   "metadata": {},
   "outputs": [],
   "source": [
    "# How many users gave a score for the first movie ? ANSWER = 452\n",
    "? \n",
    "\n",
    "# how many users gave a score for the second movie ? ANSWER= 131\n",
    "?\n",
    "\n",
    " # How many users gave a score for the last movie ? ANSWER = 1 \n",
    "?\n"
   ]
  },
  {
   "cell_type": "code",
   "execution_count": null,
   "metadata": {},
   "outputs": [],
   "source": [
    "#Compute the average movie rating for the ﬁrst movie (Toy Story). ANSWER: 3.88\n",
    "\n",
    "?"
   ]
  },
  {
   "cell_type": "markdown",
   "metadata": {},
   "source": [
    "### Collaborative Filtering Learning Algorithm\n",
    "\n",
    "The collaborative ﬁltering algorithm for movie recommendations considers that the movies have features, for example x1=romance, x2=action, x3=comedy, etc. In general the movies have $n$ different features, represented as a set of n-dimensional feature vectors X= $[ x^{(1)},... x^{(n_m)}] $. \n",
    "\n",
    "The model that will predict what is the rating $y(i,j)$ for movie $i$ given by user $j$   is formulated as a Linear Regression between the movie features and the user parameters Theta= $[ θ^{(1)}, ...,θ^{(n_u)}] $, that is \n",
    "\n",
    "$ y(i,j)=(θ^{(j)})^{T}x^{(i)}$ =>  **Linear Regression model for computing the scores for movie $i$ given by user $j$**\n",
    "\n",
    "Given a dataset of ratings produced\n",
    "by **some users on some movies**, the model will try to learn simultaneously both vectors  \n",
    "\n",
    " X=$ [x^{(1)},... x^{(n_m)}]$ and Theta=$[θ^{(1)}, ...,θ^{(n_u)}]$\n",
    " \n",
    " that produce the best ﬁt (minimize the\n",
    "error between the predictions $y(i,j)$ and the real scores given by the users).\n",
    "\n",
    "\n",
    "**The collaborative filtering cost function with regularization terms is given by**\n",
    "\n",
    "$J(x^{(1)},...,x^{(n_m)},\\theta^{(1)},...,\\theta^{(n_u)}) = \\frac{1}{2} \\sum_{((i,j): r(i,j)=1)}((\\theta^{(j)})^Tx^{(i)} - y^{(i,j)})^2 + (\\frac{\\lambda}{2} \\sum^{n_u}_{j=1}\\sum^n_{k=1} (\\theta^{(j)}_k)^2) + (\\frac{\\lambda}{2} \\sum^{n_m}_{i=1}\\sum^n_{k=1} (x^{(i)}_k)^2)$\n",
    "\n",
    "**The collaborative filtering gradients of the cost function $J$ (with regularization) are given by**\n",
    "\n",
    "$\\frac{\\partial J}{\\partial x^{(i)}_k} = \\sum ((\\theta^{(j)})^Tx^{(i)} - y^{(i,j)})\\theta_k^{(j)} +\\lambda x^{(i)}_k$\n",
    "\n",
    "$\\frac{\\partial J}{\\partial \\theta^{(j)}_k} = \\sum ((\\theta^{(j)})^Tx^{(i)} - y^{(i,j)})x_k^{(i)} +\\lambda \\theta^{(j)}_k$"
   ]
  },
  {
   "cell_type": "code",
   "execution_count": null,
   "metadata": {},
   "outputs": [],
   "source": [
    "def  cofiCostFunc(params, Y, R, num_users, num_movies, num_features, Lambda):\n",
    "    \"\"\"\n",
    "    Returns the cost and gradient for the collaborative filtering problem\n",
    "    \n",
    "    Lambda - regularization parameter\n",
    "    \n",
    "    \"\"\"\n",
    "        \n",
    "    # Unfold the params\n",
    "    X = params[:num_movies*num_features].reshape(num_movies,num_features)\n",
    "    Theta = params[num_movies*num_features:].reshape(num_users,num_features)\n",
    "    \n",
    "    predictions =  X @ Theta.T\n",
    "    err = (predictions - Y)\n",
    "    J = 1/2 * np.sum((err**2) * R)\n",
    "    \n",
    "    #compute regularized cost function\n",
    "    reg_X =  Lambda/2 * np.sum(Theta**2)\n",
    "    reg_Theta = Lambda/2 *np.sum(X**2)\n",
    "    reg_J = J + reg_X + reg_Theta\n",
    "    \n",
    "    # Compute gradient\n",
    "    X_grad = err*R @ Theta\n",
    "    Theta_grad = (err*R).T @ X\n",
    "    grad = np.append(X_grad.flatten(),Theta_grad.flatten())\n",
    "    \n",
    "    # Compute regularized gradient\n",
    "    reg_X_grad = X_grad + Lambda*X\n",
    "    reg_Theta_grad = Theta_grad + Lambda*Theta\n",
    "    reg_grad = np.append(reg_X_grad.flatten(),reg_Theta_grad.flatten())\n",
    "    \n",
    "    return J, grad, reg_J, reg_grad"
   ]
  },
  {
   "cell_type": "markdown",
   "metadata": {},
   "source": [
    "In function *cofiCostFunc*: \n",
    " \n",
    "$X$ (num_movies × n) is the matrix of movie features (also called movie parameters), $n$ is the number of features,  $i$ row of $X$ corresponds to the feature vector $x^{(i)}$ of the $i$ movie.\n",
    "\n",
    "$Theta$ (num_users × n) is the matrix of user parameters, $j$ row of $Theta$ corresponds to the parameter vector $θ^{(j)}$, of the $j$ user. \n",
    "\n",
    "Both $x^{(i)}$ and $θ^{(j)}$ are n-dimensional vectors, $x^{(i)} ∈ R^{n}$ and $θ^{(j)}∈R^{n}$ .\n",
    "\n",
    "$X$ and $Theta$ will be inicialized randomly latter on, however, in order to test the *cofiCostFunc* function, we have saved some parameters $X$ and $Theta$ in the matlab file *ex8_movieParams.mat*. \n"
   ]
  },
  {
   "cell_type": "code",
   "execution_count": null,
   "metadata": {},
   "outputs": [],
   "source": [
    "#Load X and Theta from ex8_movieParams.mat and print their dimensions. \n",
    "\n",
    "X = ? #  (num_movies X num_features)\n",
    "\n",
    "Theta = ? #  (num_users X num_features) \n",
    "\n",
    "#How many features have the movies ?\n",
    "?"
   ]
  },
  {
   "cell_type": "code",
   "execution_count": null,
   "metadata": {},
   "outputs": [],
   "source": [
    "# In order to speed up the test, data set size is reduced \n",
    "num_users, num_movies, num_features = 4,5,3\n",
    "\n",
    "#Extract from X, Theta, Y, and R only data coresponding to \n",
    "#the new number of users, number of movies, number of features \n",
    "\n",
    "X_test = ? #(5,3)\n",
    "Theta_test= ?  #(4,3)\n",
    "Y_test = ? #(5,4)\n",
    "R_test = ? # (5,4)\n",
    "\n",
    "# Due to the simultaneous optimization of X and Theta, \n",
    "#all elements of X and Theta are flattened and appended into a single vector\n",
    "params = np.append(X_test.flatten(),Theta_test.flatten())\n",
    "\n",
    "# Compute the cost function (without regularization).  ANSWER: J=22.22\n",
    "print(\"Cost at loaded parameters (lambda = 0):\")\n",
    "?\n",
    "\n",
    "# Compute the cost function (with regularization). ANSWER: J=31.34\n",
    "print(\"Cost at loaded parameters (lambda = 1.5):\")\n",
    "?"
   ]
  },
  {
   "cell_type": "markdown",
   "metadata": {},
   "source": [
    "### Data set of MOVIES \n",
    "\n",
    "The list of all movies and their index in the dataset are listed in the ﬁle *movie_idx.txt*"
   ]
  },
  {
   "cell_type": "code",
   "execution_count": null,
   "metadata": {},
   "outputs": [],
   "source": [
    "# load the movie list\n",
    "movieList = open(\"movie_ids.txt\",\"r\").read().split(\"\\n\")[:-1]\n",
    "\n",
    "#for Linux users\n",
    "#movieList = open(\"movie_ids.txt\",\"r\", encoding='ISO-8859-1').read().split(\"\\n\")[:-1]\n",
    "\n",
    "#How many movies are collected ?\n",
    "num_movies= ?\n",
    "\n",
    "# see the movie list\n",
    "movieList"
   ]
  },
  {
   "cell_type": "markdown",
   "metadata": {},
   "source": [
    "### Give your own preferences  for some of the movies \n",
    "We have ﬁlled out some values according to our own preferences, but you can enter your own movie preferences, so that later when the algorithm runs, you can get your own movie recommendations!"
   ]
  },
  {
   "cell_type": "code",
   "execution_count": null,
   "metadata": {},
   "outputs": [],
   "source": [
    "# Initialize my ratings\n",
    "my_ratings = np.zeros((num_movies,1))\n",
    "\n",
    "# Create own ratings\n",
    "my_ratings[0] = 4 \n",
    "my_ratings[97] = 2\n",
    "my_ratings[6] = 3\n",
    "my_ratings[11]= 5\n",
    "my_ratings[53] = 4\n",
    "my_ratings[63]= 5\n",
    "my_ratings[65]= 3\n",
    "my_ratings[68] = 5\n",
    "my_ratings[82]= 4\n",
    "my_ratings[225] = 5\n",
    "my_ratings[354]= 5\n",
    "\n",
    "print(\"New user ratings:\\n\")\n",
    "for i in range(len(my_ratings)):\n",
    "    if my_ratings[i]>0:\n",
    "        print(\"Rated\",int(my_ratings[i]),\"for index\",movieList[i])"
   ]
  },
  {
   "cell_type": "markdown",
   "metadata": {},
   "source": [
    "Add the additional ratings in the original dataset Y and R"
   ]
  },
  {
   "cell_type": "code",
   "execution_count": null,
   "metadata": {},
   "outputs": [],
   "source": [
    "Y = np.hstack((my_ratings,Y))\n",
    "R =np.hstack((my_ratings!=0,R))\n",
    "\n",
    "#Confirm that the number of users increased by one\n",
    "?"
   ]
  },
  {
   "cell_type": "markdown",
   "metadata": {},
   "source": [
    "### Learning movie recommendations\n",
    "\n",
    "Normalize the ratings Y. \n",
    "\n",
    "Generate random initial values for X and Theta. \n",
    "\n",
    "Call Gradient Descent to optimize X and Theta. "
   ]
  },
  {
   "cell_type": "code",
   "execution_count": null,
   "metadata": {},
   "outputs": [],
   "source": [
    "def normalizeRatings(Y, R):\n",
    "    \"\"\"\n",
    "    normalized Y so that each movie has a rating of 0 on average, and returns the \n",
    "    mean rating in Ymean.\n",
    "    \"\"\"\n",
    "  \n",
    "    m = ?  # number of movies\n",
    "    n= ? # number of users\n",
    "    \n",
    "    #Inicialize Ymean as column vector of 0 with m elements \n",
    "    #Inicialize Ynorm as matrix with the same dimenssion as Y \n",
    "    Ymean = ?\n",
    "    Ynorm = ?\n",
    "    \n",
    "    for i in range(m):\n",
    "        Ymean[i] = np.sum(Y[i,:])/np.count_nonzero(R[i,:])\n",
    "        Ynorm[i,R[i,:]==1] = Y[i,R[i,:]==1] - Ymean[i]\n",
    "        \n",
    "    return Ynorm, Ymean"
   ]
  },
  {
   "cell_type": "code",
   "execution_count": null,
   "metadata": {},
   "outputs": [],
   "source": [
    "def gradientDescent(initial_parameters,Y,R,num_users,num_movies,num_features,alpha,num_iters,Lambda):\n",
    "    \"\"\"\n",
    "    alpha - learning rate\n",
    "    Optimize X and Theta\n",
    "    \"\"\"\n",
    "    # unfold the initial parameters (consult function cofiCostFunc)\n",
    "    X = ?\n",
    "    Theta =  ?\n",
    "    \n",
    "    J_history =[]\n",
    "    \n",
    "    for i in range(num_iters):\n",
    "        #Append into a single vector params X and Theta (see the code above)\n",
    "        params = ?\n",
    "        cost, grad = cofiCostFunc(params, Y, R, num_users, num_movies, num_features, Lambda)[2:]\n",
    "        \n",
    "        # unfold grad\n",
    "        X_grad = grad[:num_movies*num_features].reshape(num_movies,num_features)\n",
    "        Theta_grad = grad[num_movies*num_features:].reshape(num_users,num_features)\n",
    "        \n",
    "    #Update the trainable parameters X and Theta with the classical gradient descent method\n",
    "        X = ?\n",
    "        \n",
    "        Theta = ?\n",
    "        \n",
    "        J_history.append(cost)\n",
    "    \n",
    "    #Append into a single vector paramsFinal the updated X and Theta\n",
    "    paramsFinal = ?\n",
    "    return paramsFinal , J_history"
   ]
  },
  {
   "cell_type": "code",
   "execution_count": null,
   "metadata": {},
   "outputs": [],
   "source": [
    "# Normalize Ratings\n",
    "Ynorm, Ymean = ?"
   ]
  },
  {
   "cell_type": "code",
   "execution_count": null,
   "metadata": {},
   "outputs": [],
   "source": [
    "# number of users\n",
    "num_users = ?\n",
    "\n",
    "# number of movies\n",
    "num_movies = ?\n",
    "\n",
    "num_features = 10\n",
    "\n",
    "# Generate randomly initial values for the matrices X and Theta \n",
    "#(use for example np.random.randn())\n",
    "X = ?\n",
    "Theta = ?\n",
    "\n",
    "#Append into a single vector params X and Theta \n",
    "initial_parameters = ?\n",
    "\n",
    "Lambda = 10\n",
    "num_iters=400\n",
    "alpha=0.001\n",
    "\n",
    "# Optimize parameters using Gradient Descent, use the normalized Ynorm\n",
    "paramsFinal, J_history = ?"
   ]
  },
  {
   "cell_type": "markdown",
   "metadata": {},
   "source": [
    "### Plot the cost Function"
   ]
  },
  {
   "cell_type": "code",
   "execution_count": null,
   "metadata": {},
   "outputs": [],
   "source": [
    "?\n"
   ]
  },
  {
   "cell_type": "code",
   "execution_count": null,
   "metadata": {},
   "outputs": [],
   "source": [
    "#unfold paramsFinal (consult function cofiCostFunc)\n",
    "X = ?\n",
    "Theta = ?\n",
    "\n",
    "# Predict all ratings of num_users for num_movies\n",
    "p = X @ Theta.T\n",
    "\n",
    "# Extract from p only the recomendations for the added user (the first one)\n",
    "# Reshape because of rank one problem \n",
    "\n",
    "my_scores= ?\n",
    "\n",
    "my_predictions = my_scores + Ymean\n"
   ]
  },
  {
   "cell_type": "code",
   "execution_count": null,
   "metadata": {},
   "outputs": [],
   "source": [
    "df = pd.DataFrame(np.column_stack((my_predictions,np.array(movieList))))\n",
    "\n",
    "df.sort_values(by=[0],ascending=False,inplace=True)\n",
    "df.reset_index(drop=True,inplace=True)\n",
    "\n",
    "#Extract only the top 10 recommented movies for the added user \n",
    "?"
   ]
  },
  {
   "cell_type": "code",
   "execution_count": null,
   "metadata": {},
   "outputs": [],
   "source": []
  }
 ],
 "metadata": {
  "kernelspec": {
   "display_name": "Python 3 (ipykernel)",
   "language": "python",
   "name": "python3"
  },
  "language_info": {
   "codemirror_mode": {
    "name": "ipython",
    "version": 3
   },
   "file_extension": ".py",
   "mimetype": "text/x-python",
   "name": "python",
   "nbconvert_exporter": "python",
   "pygments_lexer": "ipython3",
   "version": "3.9.7"
  }
 },
 "nbformat": 4,
 "nbformat_minor": 2
}
