{
 "cells": [
  {
   "cell_type": "code",
   "execution_count": 3,
   "id": "78b55794",
   "metadata": {},
   "outputs": [],
   "source": [
    "#Import relevant libraries\n",
    "import numpy as np\n",
    "import math\n",
    "import pandas as pd\n",
    "import matplotlib.pyplot as plt\n",
    "\n",
    "import seaborn as sns\n",
    "from sklearn import preprocessing, svm\n",
    "from sklearn.model_selection import train_test_split\n",
    "from sklearn.model_selection import KFold\n",
    "from sklearn.model_selection import GridSearchCV\n",
    "\n",
    "from sklearn.linear_model import LinearRegression\n",
    "from sklearn.linear_model import Lasso\n",
    "from sklearn.neural_network import MLPRegressor\n",
    "from sklearn.ensemble import RandomForestRegressor\n",
    "\n",
    "from sklearn.metrics import accuracy_score\n",
    "from sklearn.metrics import r2_score\n",
    "from sklearn.metrics import mean_absolute_error\n",
    "from sklearn.metrics import mean_absolute_percentage_error\n",
    "from sklearn.metrics import mean_squared_error\n",
    "from sklearn.inspection import permutation_importance\n",
    "from sklearn.feature_selection import RFE\n",
    "from sklearn.decomposition import PCA\n",
    "\n",
    "from sklearn.preprocessing import StandardScaler\n",
    "from sklearn.preprocessing import MinMaxScaler\n",
    "\n",
    "from keras.models import Sequential\n",
    "from keras.layers import Dense\n",
    "from keras import optimizers\n",
    "from scikeras.wrappers import KerasRegressor\n",
    "from sklearn.model_selection import cross_val_score\n",
    "from sklearn.model_selection import KFold\n",
    "from sklearn.preprocessing import StandardScaler\n",
    "from sklearn.pipeline import Pipeline"
   ]
  },
  {
   "cell_type": "markdown",
   "id": "79fb5715",
   "metadata": {},
   "source": [
    "# Thesis Data"
   ]
  },
  {
   "cell_type": "code",
   "execution_count": 4,
   "id": "5aa25cc9",
   "metadata": {},
   "outputs": [
    {
     "name": "stdout",
     "output_type": "stream",
     "text": [
      "WARNING *** OLE2 inconsistency: SSCS size is 0 but SSAT size is non-zero\n",
      "Number of Columns:  102\n",
      "Number of Rows:  15355\n"
     ]
    }
   ],
   "source": [
    "df = pd.read_excel('../data/DW_Pneumonia_episodios.xls')\n",
    "print(\"Number of Columns: \",df.shape[1])\n",
    "print(\"Number of Rows: \",df.shape[0])\n"
   ]
  },
  {
   "cell_type": "code",
   "execution_count": 5,
   "id": "a02fc1a4",
   "metadata": {},
   "outputs": [],
   "source": [
    "def getCount(col):\n",
    "    d_count = {}\n",
    "    for num in df[col]:\n",
    "        if num not in d_count:\n",
    "            d_count[num] = 1\n",
    "        else:\n",
    "            d_count[num] += 1\n",
    "    return dict(sorted(d_count.items(), key=lambda item: item[1], reverse=True))"
   ]
  },
  {
   "cell_type": "code",
   "execution_count": 6,
   "id": "8e0681c4",
   "metadata": {},
   "outputs": [
    {
     "name": "stdout",
     "output_type": "stream",
     "text": [
      "{0: 5743, 1: 4125, 3: 3157, 4: 1952, 2: 131, 6: 92, 7: 91, 5: 64}\n"
     ]
    }
   ],
   "source": [
    "prov = getCount('TipoProvenienciaId')\n",
    "print(prov)"
   ]
  },
  {
   "cell_type": "code",
   "execution_count": 142,
   "id": "cfa81868",
   "metadata": {},
   "outputs": [
    {
     "data": {
      "text/html": [
       "<div>\n",
       "<style scoped>\n",
       "    .dataframe tbody tr th:only-of-type {\n",
       "        vertical-align: middle;\n",
       "    }\n",
       "\n",
       "    .dataframe tbody tr th {\n",
       "        vertical-align: top;\n",
       "    }\n",
       "\n",
       "    .dataframe thead th {\n",
       "        text-align: right;\n",
       "    }\n",
       "</style>\n",
       "<table border=\"1\" class=\"dataframe\">\n",
       "  <thead>\n",
       "    <tr style=\"text-align: right;\">\n",
       "      <th></th>\n",
       "      <th>Key</th>\n",
       "      <th>SourceKey</th>\n",
       "      <th>Idioma</th>\n",
       "      <th>HospitalRegiaoId</th>\n",
       "      <th>HospitalCodigo</th>\n",
       "      <th>ServicoId</th>\n",
       "      <th>DoenteId</th>\n",
       "      <th>DoenteDataNascimento</th>\n",
       "      <th>DoenteIdadeEmAnos</th>\n",
       "      <th>DoenteDecadas</th>\n",
       "      <th>...</th>\n",
       "      <th>NrPrescricoesBroncodilatador</th>\n",
       "      <th>Psicofarmaco</th>\n",
       "      <th>NrPrescricoesPsicofarmaco</th>\n",
       "      <th>Opiaceo</th>\n",
       "      <th>NrPrescricoesOpiaceo</th>\n",
       "      <th>RelaxanteMuscular</th>\n",
       "      <th>NrPrescricoesRelaxanteMuscular</th>\n",
       "      <th>Antibiotico</th>\n",
       "      <th>NrPrescricoesAntibiotico</th>\n",
       "      <th>LineageKey</th>\n",
       "    </tr>\n",
       "  </thead>\n",
       "  <tbody>\n",
       "    <tr>\n",
       "      <th>0</th>\n",
       "      <td>1</td>\n",
       "      <td>3005</td>\n",
       "      <td>PT</td>\n",
       "      <td>3</td>\n",
       "      <td>15</td>\n",
       "      <td>3</td>\n",
       "      <td>2383</td>\n",
       "      <td>1951-09-30</td>\n",
       "      <td>66</td>\n",
       "      <td>7</td>\n",
       "      <td>...</td>\n",
       "      <td>6</td>\n",
       "      <td>0</td>\n",
       "      <td>0</td>\n",
       "      <td>1</td>\n",
       "      <td>2</td>\n",
       "      <td>0</td>\n",
       "      <td>0</td>\n",
       "      <td>1</td>\n",
       "      <td>8</td>\n",
       "      <td>1</td>\n",
       "    </tr>\n",
       "    <tr>\n",
       "      <th>1</th>\n",
       "      <td>2</td>\n",
       "      <td>3006</td>\n",
       "      <td>PT</td>\n",
       "      <td>3</td>\n",
       "      <td>15</td>\n",
       "      <td>3</td>\n",
       "      <td>2384</td>\n",
       "      <td>1946-10-23</td>\n",
       "      <td>71</td>\n",
       "      <td>8</td>\n",
       "      <td>...</td>\n",
       "      <td>0</td>\n",
       "      <td>1</td>\n",
       "      <td>1</td>\n",
       "      <td>1</td>\n",
       "      <td>2</td>\n",
       "      <td>1</td>\n",
       "      <td>1</td>\n",
       "      <td>1</td>\n",
       "      <td>5</td>\n",
       "      <td>1</td>\n",
       "    </tr>\n",
       "    <tr>\n",
       "      <th>2</th>\n",
       "      <td>3</td>\n",
       "      <td>3012</td>\n",
       "      <td>PT</td>\n",
       "      <td>3</td>\n",
       "      <td>15</td>\n",
       "      <td>3</td>\n",
       "      <td>2390</td>\n",
       "      <td>1964-01-22</td>\n",
       "      <td>54</td>\n",
       "      <td>6</td>\n",
       "      <td>...</td>\n",
       "      <td>4</td>\n",
       "      <td>1</td>\n",
       "      <td>2</td>\n",
       "      <td>1</td>\n",
       "      <td>1</td>\n",
       "      <td>0</td>\n",
       "      <td>0</td>\n",
       "      <td>1</td>\n",
       "      <td>3</td>\n",
       "      <td>1</td>\n",
       "    </tr>\n",
       "    <tr>\n",
       "      <th>3</th>\n",
       "      <td>4</td>\n",
       "      <td>3013</td>\n",
       "      <td>PT</td>\n",
       "      <td>3</td>\n",
       "      <td>15</td>\n",
       "      <td>1</td>\n",
       "      <td>2391</td>\n",
       "      <td>1956-05-31</td>\n",
       "      <td>61</td>\n",
       "      <td>7</td>\n",
       "      <td>...</td>\n",
       "      <td>0</td>\n",
       "      <td>1</td>\n",
       "      <td>1</td>\n",
       "      <td>1</td>\n",
       "      <td>2</td>\n",
       "      <td>1</td>\n",
       "      <td>3</td>\n",
       "      <td>1</td>\n",
       "      <td>4</td>\n",
       "      <td>1</td>\n",
       "    </tr>\n",
       "    <tr>\n",
       "      <th>4</th>\n",
       "      <td>5</td>\n",
       "      <td>3019</td>\n",
       "      <td>PT</td>\n",
       "      <td>3</td>\n",
       "      <td>15</td>\n",
       "      <td>2</td>\n",
       "      <td>2397</td>\n",
       "      <td>1944-07-20</td>\n",
       "      <td>73</td>\n",
       "      <td>8</td>\n",
       "      <td>...</td>\n",
       "      <td>1</td>\n",
       "      <td>0</td>\n",
       "      <td>0</td>\n",
       "      <td>0</td>\n",
       "      <td>0</td>\n",
       "      <td>0</td>\n",
       "      <td>0</td>\n",
       "      <td>1</td>\n",
       "      <td>4</td>\n",
       "      <td>1</td>\n",
       "    </tr>\n",
       "  </tbody>\n",
       "</table>\n",
       "<p>5 rows × 102 columns</p>\n",
       "</div>"
      ],
      "text/plain": [
       "   Key  SourceKey Idioma  HospitalRegiaoId  HospitalCodigo  ServicoId  \\\n",
       "0    1       3005     PT                 3              15          3   \n",
       "1    2       3006     PT                 3              15          3   \n",
       "2    3       3012     PT                 3              15          3   \n",
       "3    4       3013     PT                 3              15          1   \n",
       "4    5       3019     PT                 3              15          2   \n",
       "\n",
       "   DoenteId DoenteDataNascimento  DoenteIdadeEmAnos  DoenteDecadas  ...  \\\n",
       "0      2383           1951-09-30                 66              7  ...   \n",
       "1      2384           1946-10-23                 71              8  ...   \n",
       "2      2390           1964-01-22                 54              6  ...   \n",
       "3      2391           1956-05-31                 61              7  ...   \n",
       "4      2397           1944-07-20                 73              8  ...   \n",
       "\n",
       "   NrPrescricoesBroncodilatador  Psicofarmaco  NrPrescricoesPsicofarmaco  \\\n",
       "0                             6             0                          0   \n",
       "1                             0             1                          1   \n",
       "2                             4             1                          2   \n",
       "3                             0             1                          1   \n",
       "4                             1             0                          0   \n",
       "\n",
       "   Opiaceo  NrPrescricoesOpiaceo  RelaxanteMuscular  \\\n",
       "0        1                     2                  0   \n",
       "1        1                     2                  1   \n",
       "2        1                     1                  0   \n",
       "3        1                     2                  1   \n",
       "4        0                     0                  0   \n",
       "\n",
       "   NrPrescricoesRelaxanteMuscular Antibiotico NrPrescricoesAntibiotico  \\\n",
       "0                               0           1                        8   \n",
       "1                               1           1                        5   \n",
       "2                               0           1                        3   \n",
       "3                               3           1                        4   \n",
       "4                               0           1                        4   \n",
       "\n",
       "   LineageKey  \n",
       "0           1  \n",
       "1           1  \n",
       "2           1  \n",
       "3           1  \n",
       "4           1  \n",
       "\n",
       "[5 rows x 102 columns]"
      ]
     },
     "execution_count": 142,
     "metadata": {},
     "output_type": "execute_result"
    }
   ],
   "source": [
    "df.head()"
   ]
  },
  {
   "cell_type": "code",
   "execution_count": 4,
   "id": "4e2ba8f0",
   "metadata": {},
   "outputs": [
    {
     "name": "stdout",
     "output_type": "stream",
     "text": [
      "WARNING *** OLE2 inconsistency: SSCS size is 0 but SSAT size is non-zero\n",
      "Number of Columns:  30\n",
      "Number of Rows:  12949\n"
     ]
    }
   ],
   "source": [
    "df_saps = pd.read_excel('../data/DW_Pneumonia_SAPS.xls')\n",
    "print(\"Number of Columns: \",df_saps.shape[1])\n",
    "print(\"Number of Rows: \",df_saps.shape[0])"
   ]
  },
  {
   "cell_type": "code",
   "execution_count": 5,
   "id": "584240a9",
   "metadata": {},
   "outputs": [
    {
     "name": "stdout",
     "output_type": "stream",
     "text": [
      "WARNING *** OLE2 inconsistency: SSCS size is 0 but SSAT size is non-zero\n",
      "Number of Columns:  3\n",
      "Number of Rows:  62955\n"
     ]
    }
   ],
   "source": [
    "df_diagn = pd.read_excel('../data/DW_Pneumonia_Diagnosticos.xls')\n",
    "print(\"Number of Columns: \",df_diagn.shape[1])\n",
    "print(\"Number of Rows: \",df_diagn.shape[0])"
   ]
  },
  {
   "cell_type": "code",
   "execution_count": 6,
   "id": "4682c8f3",
   "metadata": {},
   "outputs": [
    {
     "name": "stdout",
     "output_type": "stream",
     "text": [
      "WARNING *** OLE2 inconsistency: SSCS size is 0 but SSAT size is non-zero\n",
      "Number of Columns:  3\n",
      "Number of Rows:  14132\n"
     ]
    }
   ],
   "source": [
    "df_antecedent = pd.read_excel('../data/DW_Pneumonia_Antecedentes_Diagn.xls')\n",
    "print(\"Number of Columns: \",df_antecedent.shape[1])\n",
    "print(\"Number of Rows: \",df_antecedent.shape[0])"
   ]
  },
  {
   "cell_type": "code",
   "execution_count": 7,
   "id": "0825133b",
   "metadata": {},
   "outputs": [
    {
     "name": "stdout",
     "output_type": "stream",
     "text": [
      "Number of Columns:  2\n",
      "Number of Rows:  8\n"
     ]
    }
   ],
   "source": [
    "df_dpoc = pd.read_excel('../data/DW_Pneumonia_DPOC_Diagn.xls')\n",
    "print(\"Number of Columns: \",df_dpoc.shape[1])\n",
    "print(\"Number of Rows: \",df_dpoc.shape[0])"
   ]
  },
  {
   "cell_type": "code",
   "execution_count": 8,
   "id": "8e72a1ef",
   "metadata": {},
   "outputs": [
    {
     "name": "stdout",
     "output_type": "stream",
     "text": [
      "WARNING *** OLE2 inconsistency: SSCS size is 0 but SSAT size is non-zero\n",
      "Number of Columns:  2\n",
      "Number of Rows:  121\n"
     ]
    }
   ],
   "source": [
    "df_ins_renalI = pd.read_excel('../data/DW_Pneumonia_InsufRenal_Diagn.xls')\n",
    "print(\"Number of Columns: \",df_ins_renalI.shape[1])\n",
    "print(\"Number of Rows: \",df_ins_renalI.shape[0])"
   ]
  },
  {
   "cell_type": "code",
   "execution_count": 9,
   "id": "dab2c8c6",
   "metadata": {},
   "outputs": [
    {
     "name": "stdout",
     "output_type": "stream",
     "text": [
      "WARNING *** OLE2 inconsistency: SSCS size is 0 but SSAT size is non-zero\n",
      "Number of Columns:  2\n",
      "Number of Rows:  179\n"
     ]
    }
   ],
   "source": [
    "df_ins_renalII = pd.read_excel('../data/DW_Pneumonia_InsufRenal_II_Diagn.xls')\n",
    "print(\"Number of Columns: \",df_ins_renalII.shape[1])\n",
    "print(\"Number of Rows: \",df_ins_renalII.shape[0])"
   ]
  },
  {
   "cell_type": "code",
   "execution_count": 10,
   "id": "ba3033c6",
   "metadata": {},
   "outputs": [],
   "source": [
    "df_ins_renal = pd.concat([df_ins_renalI, df_ins_renalII])"
   ]
  },
  {
   "cell_type": "code",
   "execution_count": 11,
   "id": "47e401ca",
   "metadata": {},
   "outputs": [
    {
     "name": "stdout",
     "output_type": "stream",
     "text": [
      "Number of Columns:  2\n",
      "Number of Rows:  9\n"
     ]
    }
   ],
   "source": [
    "df_enfisema = pd.read_excel('../data/DW_Pneumonia_EnfisemaPulm_Diagn.xls')\n",
    "print(\"Number of Columns: \",df_enfisema.shape[1])\n",
    "print(\"Number of Rows: \",df_enfisema.shape[0])"
   ]
  },
  {
   "cell_type": "code",
   "execution_count": 12,
   "id": "22273895",
   "metadata": {},
   "outputs": [
    {
     "name": "stdout",
     "output_type": "stream",
     "text": [
      "Number of Columns:  2\n",
      "Number of Rows:  8\n"
     ]
    }
   ],
   "source": [
    "df_bronquiteI = pd.read_excel('../data/DW_Pneumonia_Bronquite_I_Diagn.xls')\n",
    "print(\"Number of Columns: \",df_bronquiteI.shape[1])\n",
    "print(\"Number of Rows: \",df_bronquiteI.shape[0])"
   ]
  },
  {
   "cell_type": "code",
   "execution_count": 13,
   "id": "1134f8d0",
   "metadata": {},
   "outputs": [
    {
     "name": "stdout",
     "output_type": "stream",
     "text": [
      "Number of Columns:  2\n",
      "Number of Rows:  11\n"
     ]
    }
   ],
   "source": [
    "df_bronquiteII = pd.read_excel('../data/DW_Pneumonia_Bronquite_II_Diagn.xls')\n",
    "print(\"Number of Columns: \",df_bronquiteII.shape[1])\n",
    "print(\"Number of Rows: \",df_bronquiteII.shape[0])"
   ]
  },
  {
   "cell_type": "code",
   "execution_count": 14,
   "id": "c34cc4ee",
   "metadata": {},
   "outputs": [],
   "source": [
    "df_bronquite = pd.concat([df_bronquiteI, df_bronquiteII])"
   ]
  },
  {
   "cell_type": "code",
   "execution_count": 15,
   "id": "8f2c5258",
   "metadata": {},
   "outputs": [
    {
     "name": "stdout",
     "output_type": "stream",
     "text": [
      "WARNING *** OLE2 inconsistency: SSCS size is 0 but SSAT size is non-zero\n",
      "Number of Columns:  7\n",
      "Number of Rows:  115\n"
     ]
    }
   ],
   "source": [
    "df_doenca_resp = pd.read_excel('../data/DW_Pneumonia_Doenca_respiratoria.xls')\n",
    "print(\"Number of Columns: \",df_doenca_resp.shape[1])\n",
    "print(\"Number of Rows: \",df_doenca_resp.shape[0])"
   ]
  },
  {
   "cell_type": "markdown",
   "id": "49ed8663",
   "metadata": {},
   "source": [
    "## Data preprocessing"
   ]
  },
  {
   "cell_type": "code",
   "execution_count": 7,
   "id": "1e0845c1",
   "metadata": {},
   "outputs": [],
   "source": [
    "\"\"\"\n",
    "    Get only some features\n",
    "\"\"\"\n",
    "# Convert the dictionary into DataFrame\n",
    "df_v2 = pd.DataFrame()\n",
    "df_v2 = pd.DataFrame({'TipoAdmissaoId': df['TipoAdmissaoId']})\n",
    "df_v2['DoenteIdadeEmAnos']=df['DoenteIdadeEmAnos']\n",
    "df_v2['TipoProvenienciaId']=df['TipoProvenienciaId']\n",
    "df_v2['ServicoId']=df['ServicoId']\n",
    "df_v2['DoenteSexoId']=df['DoenteSexoId']\n",
    "df_v2['IntervaloAteVentilacaoInvasiva_DataAdmissaoHospitalar']=df['IntervaloAteVentilacaoInvasiva_DataAdmissaoHospitalar']\n",
    "df_v2['SAPSScore']=df['SAPSScore']\n",
    "df_v2['APACHEScore']=df['APACHEScore']"
   ]
  },
  {
   "cell_type": "code",
   "execution_count": 250,
   "id": "59e4c288",
   "metadata": {},
   "outputs": [
    {
     "data": {
      "text/html": [
       "<div>\n",
       "<style scoped>\n",
       "    .dataframe tbody tr th:only-of-type {\n",
       "        vertical-align: middle;\n",
       "    }\n",
       "\n",
       "    .dataframe tbody tr th {\n",
       "        vertical-align: top;\n",
       "    }\n",
       "\n",
       "    .dataframe thead th {\n",
       "        text-align: right;\n",
       "    }\n",
       "</style>\n",
       "<table border=\"1\" class=\"dataframe\">\n",
       "  <thead>\n",
       "    <tr style=\"text-align: right;\">\n",
       "      <th></th>\n",
       "      <th>TipoAdmissaoId</th>\n",
       "      <th>DoenteIdadeEmAnos</th>\n",
       "      <th>TipoProvenienciaId</th>\n",
       "      <th>ServicoId</th>\n",
       "      <th>DoenteSexoId</th>\n",
       "      <th>IntervaloAteVentilacaoInvasiva_DataAdmissaoHospitalar</th>\n",
       "      <th>SAPSScore</th>\n",
       "      <th>APACHEScore</th>\n",
       "    </tr>\n",
       "  </thead>\n",
       "  <tbody>\n",
       "    <tr>\n",
       "      <th>count</th>\n",
       "      <td>15297.000000</td>\n",
       "      <td>15355.000000</td>\n",
       "      <td>15355.000000</td>\n",
       "      <td>15355.000000</td>\n",
       "      <td>15355.000000</td>\n",
       "      <td>7296.000000</td>\n",
       "      <td>12949.000000</td>\n",
       "      <td>12949.000000</td>\n",
       "    </tr>\n",
       "    <tr>\n",
       "      <th>mean</th>\n",
       "      <td>5.006929</td>\n",
       "      <td>61.985672</td>\n",
       "      <td>1.509280</td>\n",
       "      <td>46.695474</td>\n",
       "      <td>1.330120</td>\n",
       "      <td>4.468157</td>\n",
       "      <td>42.825624</td>\n",
       "      <td>19.384740</td>\n",
       "    </tr>\n",
       "    <tr>\n",
       "      <th>std</th>\n",
       "      <td>3.996920</td>\n",
       "      <td>19.270290</td>\n",
       "      <td>1.587355</td>\n",
       "      <td>30.136494</td>\n",
       "      <td>0.470272</td>\n",
       "      <td>14.434716</td>\n",
       "      <td>18.964978</td>\n",
       "      <td>9.605499</td>\n",
       "    </tr>\n",
       "    <tr>\n",
       "      <th>min</th>\n",
       "      <td>1.000000</td>\n",
       "      <td>0.000000</td>\n",
       "      <td>0.000000</td>\n",
       "      <td>1.000000</td>\n",
       "      <td>1.000000</td>\n",
       "      <td>0.000000</td>\n",
       "      <td>0.000000</td>\n",
       "      <td>0.000000</td>\n",
       "    </tr>\n",
       "    <tr>\n",
       "      <th>25%</th>\n",
       "      <td>2.000000</td>\n",
       "      <td>52.000000</td>\n",
       "      <td>0.000000</td>\n",
       "      <td>19.000000</td>\n",
       "      <td>1.000000</td>\n",
       "      <td>0.072920</td>\n",
       "      <td>29.000000</td>\n",
       "      <td>12.000000</td>\n",
       "    </tr>\n",
       "    <tr>\n",
       "      <th>50%</th>\n",
       "      <td>5.000000</td>\n",
       "      <td>66.000000</td>\n",
       "      <td>1.000000</td>\n",
       "      <td>47.000000</td>\n",
       "      <td>1.000000</td>\n",
       "      <td>0.647220</td>\n",
       "      <td>41.000000</td>\n",
       "      <td>19.000000</td>\n",
       "    </tr>\n",
       "    <tr>\n",
       "      <th>75%</th>\n",
       "      <td>5.000000</td>\n",
       "      <td>76.000000</td>\n",
       "      <td>3.000000</td>\n",
       "      <td>75.000000</td>\n",
       "      <td>2.000000</td>\n",
       "      <td>3.661110</td>\n",
       "      <td>55.000000</td>\n",
       "      <td>26.000000</td>\n",
       "    </tr>\n",
       "    <tr>\n",
       "      <th>max</th>\n",
       "      <td>17.000000</td>\n",
       "      <td>102.000000</td>\n",
       "      <td>7.000000</td>\n",
       "      <td>103.000000</td>\n",
       "      <td>2.000000</td>\n",
       "      <td>633.556250</td>\n",
       "      <td>116.000000</td>\n",
       "      <td>61.000000</td>\n",
       "    </tr>\n",
       "  </tbody>\n",
       "</table>\n",
       "</div>"
      ],
      "text/plain": [
       "       TipoAdmissaoId  DoenteIdadeEmAnos  TipoProvenienciaId     ServicoId  \\\n",
       "count    15297.000000       15355.000000        15355.000000  15355.000000   \n",
       "mean         5.006929          61.985672            1.509280     46.695474   \n",
       "std          3.996920          19.270290            1.587355     30.136494   \n",
       "min          1.000000           0.000000            0.000000      1.000000   \n",
       "25%          2.000000          52.000000            0.000000     19.000000   \n",
       "50%          5.000000          66.000000            1.000000     47.000000   \n",
       "75%          5.000000          76.000000            3.000000     75.000000   \n",
       "max         17.000000         102.000000            7.000000    103.000000   \n",
       "\n",
       "       DoenteSexoId  IntervaloAteVentilacaoInvasiva_DataAdmissaoHospitalar  \\\n",
       "count  15355.000000                                        7296.000000       \n",
       "mean       1.330120                                           4.468157       \n",
       "std        0.470272                                          14.434716       \n",
       "min        1.000000                                           0.000000       \n",
       "25%        1.000000                                           0.072920       \n",
       "50%        1.000000                                           0.647220       \n",
       "75%        2.000000                                           3.661110       \n",
       "max        2.000000                                         633.556250       \n",
       "\n",
       "          SAPSScore   APACHEScore  \n",
       "count  12949.000000  12949.000000  \n",
       "mean      42.825624     19.384740  \n",
       "std       18.964978      9.605499  \n",
       "min        0.000000      0.000000  \n",
       "25%       29.000000     12.000000  \n",
       "50%       41.000000     19.000000  \n",
       "75%       55.000000     26.000000  \n",
       "max      116.000000     61.000000  "
      ]
     },
     "execution_count": 250,
     "metadata": {},
     "output_type": "execute_result"
    }
   ],
   "source": [
    "df_v2.describe()"
   ]
  },
  {
   "cell_type": "code",
   "execution_count": 251,
   "id": "d180aa71",
   "metadata": {},
   "outputs": [],
   "source": [
    "\"\"\"\n",
    "    Add the PaoFio Ratio to Episodes\n",
    "\"\"\"\n",
    "def addPaoFioRatio():\n",
    "    df_v2['PaoFioRatio'] = np.nan\n",
    "    for i in df['Key']:\n",
    "        eps_list = list(df_saps['EpisodioKey'])\n",
    "        if i in eps_list:\n",
    "            _index = eps_list.index(i)\n",
    "            df_v2.at[i-1,'PaoFioRatio']=df_saps['PaoFio'][_index]\n",
    "\n",
    "    #df_v2 = df_v2[df_v2['PaoFioRatio'].notna()]"
   ]
  },
  {
   "cell_type": "code",
   "execution_count": 252,
   "id": "c7fc4ec4",
   "metadata": {},
   "outputs": [],
   "source": [
    "\"\"\"\n",
    "    Check DPOC Diagnosis\n",
    "\"\"\"\n",
    "def addDPOC():\n",
    "    df_v2['DPOC'] = 0\n",
    "    for i in df['Key']:\n",
    "        ep_query = df_diagn.loc[df_diagn['EpisodioKey'] == i]\n",
    "        diagnisticos = list(ep_query[\"DiagnosticoId\"])\n",
    "        dpoc_ids = list(df_dpoc[\"Key\"])\n",
    "        for d in diagnisticos:\n",
    "            if d in dpoc_ids:\n",
    "                df_v2.at[i-1,'DPOC']='1'"
   ]
  },
  {
   "cell_type": "code",
   "execution_count": 253,
   "id": "3497a079",
   "metadata": {},
   "outputs": [],
   "source": [
    "\"\"\"\n",
    "    Check antecedentes de Inuficiencia Renal Diagnosis\n",
    "\"\"\"\n",
    "def addInsufRenal():\n",
    "    df_v2['InsufRenal'] = 0\n",
    "    for i in df['Key']:\n",
    "        ep_query = df_antecedent.loc[df_antecedent['EpisodioKey'] == i]\n",
    "        diagnisticos = list(ep_query[\"DiagnosticoId\"])\n",
    "        ins_renal_ids = list(df_ins_renal[\"Key\"])\n",
    "        for d in diagnisticos:\n",
    "            if d in ins_renal_ids:\n",
    "                df_v2.at[i-1,'InsufRenal']='1'"
   ]
  },
  {
   "cell_type": "code",
   "execution_count": 254,
   "id": "b637413f",
   "metadata": {},
   "outputs": [],
   "source": [
    "\"\"\"\n",
    "    Check Bronquite Diagnosis\n",
    "\"\"\"\n",
    "def addBonquite():\n",
    "    df_v2['Bonquite'] = 0\n",
    "    for i in df['Key']:\n",
    "        ep_query = df_diagn.loc[df_diagn['EpisodioKey'] == i]\n",
    "        diagnisticos = list(ep_query[\"DiagnosticoId\"])\n",
    "        bronquite_ids = list(df_bronquite[\"Key\"])\n",
    "        for d in diagnisticos:\n",
    "            if d in bronquite_ids:\n",
    "                df_v2.at[i-1,'Bonquite']='1'"
   ]
  },
  {
   "cell_type": "code",
   "execution_count": 255,
   "id": "8d888023",
   "metadata": {},
   "outputs": [],
   "source": [
    "\"\"\"\n",
    "    Check Enfisema Diagnosis\n",
    "\"\"\"\n",
    "def addEnfisema():\n",
    "    df_v2['Enfisema'] = 0\n",
    "    for i in df['Key']:\n",
    "        ep_query = df_diagn.loc[df_diagn['EpisodioKey'] == i]\n",
    "        diagnisticos = list(ep_query[\"DiagnosticoId\"])\n",
    "        enfisema_ids = list(df_enfisema[\"Key\"])\n",
    "        for d in diagnisticos:\n",
    "            if d in enfisema_ids:\n",
    "                df_v2.at[i-1,'Enfisema']='1'"
   ]
  },
  {
   "cell_type": "code",
   "execution_count": 256,
   "id": "9913fda4",
   "metadata": {},
   "outputs": [],
   "source": [
    "\"\"\"\n",
    "    Check Doenca do Sistema Respiratorio Diagnosis\n",
    "\"\"\"\n",
    "def addDoencaRespiratoria():\n",
    "    df_v2['DoencaRespiratoria'] = 0\n",
    "    for i in df['Key']:\n",
    "        ep_query = df_diagn.loc[df_diagn['EpisodioKey'] == i]\n",
    "        diagnisticos = list(ep_query[\"DiagnosticoId\"])\n",
    "        doenca_resp_ids = list(df_doenca_resp[\"Key\"])\n",
    "        for d in diagnisticos:\n",
    "            if d in doenca_resp_ids:\n",
    "                df_v2.at[i-1,'DoencaRespiratoria']='1'"
   ]
  },
  {
   "cell_type": "code",
   "execution_count": 257,
   "id": "204a1b13",
   "metadata": {},
   "outputs": [],
   "source": [
    "\"\"\"\n",
    "    Check antecedentes de Doenca do Sistema Respiratorio Diagnosis\n",
    "\"\"\"\n",
    "def addDoencaRespiratoriaAntec():\n",
    "    df_v2['DoencaRespiratoriaAntec'] = 0\n",
    "    for i in df['Key']:\n",
    "        ep_query = df_antecedent.loc[df_antecedent['EpisodioKey'] == i]\n",
    "        diagnisticos = list(ep_query[\"DiagnosticoId\"])\n",
    "        doenca_resp_ids = list(df_doenca_resp[\"Key\"])\n",
    "        for d in diagnisticos:\n",
    "            if d in doenca_resp_ids:\n",
    "                df_v2.at[i-1,'DoencaRespiratoriaAntec']=df_v2.at[i-1,'DoencaRespiratoriaAntec'] + 1"
   ]
  },
  {
   "cell_type": "code",
   "execution_count": 258,
   "id": "43a62614",
   "metadata": {},
   "outputs": [],
   "source": [
    "\"\"\"\n",
    "    Add variables\n",
    "\"\"\"\n",
    "addPaoFioRatio()              # Ratio of PaO2FiO2\n",
    "addDPOC()                     # Doença pulmonar obstrutiva cronica\n",
    "addInsufRenal()               # Insuficiência renal\n",
    "addBonquite()                 # Bronquite\n",
    "addEnfisema()                 # Enfisema pulmonar\n",
    "addDoencaRespiratoria()       # Doença do sistema respiratório\n",
    "#addDoencaRespiratoriaAntec()  # Antecedentes de doenças do sistema respiratório"
   ]
  },
  {
   "cell_type": "code",
   "execution_count": 8,
   "id": "ed4adfba",
   "metadata": {},
   "outputs": [],
   "source": [
    "\"\"\"\n",
    "    Add outcome variable\n",
    "\"\"\"\n",
    "#df_v2 = df_v2.drop('NumeroDiasVentilacaoInvasiva', axis=1)\n",
    "df_v2['NumeroDiasVentilacaoInvasiva']=df['NumeroDiasVentilacaoInvasiva']"
   ]
  },
  {
   "cell_type": "code",
   "execution_count": 9,
   "id": "8182b3cb",
   "metadata": {},
   "outputs": [],
   "source": [
    "\"\"\"\n",
    "    Consider only patients who were submitted to IMV  - 7490 admissions\n",
    "\"\"\"\n",
    "df_v2 = df_v2[df_v2['NumeroDiasVentilacaoInvasiva'] > 0]  "
   ]
  },
  {
   "cell_type": "code",
   "execution_count": 10,
   "id": "91b6af40",
   "metadata": {},
   "outputs": [
    {
     "data": {
      "text/html": [
       "<div>\n",
       "<style scoped>\n",
       "    .dataframe tbody tr th:only-of-type {\n",
       "        vertical-align: middle;\n",
       "    }\n",
       "\n",
       "    .dataframe tbody tr th {\n",
       "        vertical-align: top;\n",
       "    }\n",
       "\n",
       "    .dataframe thead th {\n",
       "        text-align: right;\n",
       "    }\n",
       "</style>\n",
       "<table border=\"1\" class=\"dataframe\">\n",
       "  <thead>\n",
       "    <tr style=\"text-align: right;\">\n",
       "      <th></th>\n",
       "      <th>TipoAdmissaoId</th>\n",
       "      <th>DoenteIdadeEmAnos</th>\n",
       "      <th>TipoProvenienciaId</th>\n",
       "      <th>ServicoId</th>\n",
       "      <th>DoenteSexoId</th>\n",
       "      <th>IntervaloAteVentilacaoInvasiva_DataAdmissaoHospitalar</th>\n",
       "      <th>SAPSScore</th>\n",
       "      <th>APACHEScore</th>\n",
       "      <th>TempoInternamentoEmDias</th>\n",
       "    </tr>\n",
       "  </thead>\n",
       "  <tbody>\n",
       "    <tr>\n",
       "      <th>count</th>\n",
       "      <td>15294.000000</td>\n",
       "      <td>15352.000000</td>\n",
       "      <td>15352.000000</td>\n",
       "      <td>15352.000000</td>\n",
       "      <td>15352.000000</td>\n",
       "      <td>7295.000000</td>\n",
       "      <td>12947.000000</td>\n",
       "      <td>12947.000000</td>\n",
       "      <td>15352.000000</td>\n",
       "    </tr>\n",
       "    <tr>\n",
       "      <th>mean</th>\n",
       "      <td>5.006539</td>\n",
       "      <td>61.989252</td>\n",
       "      <td>1.509510</td>\n",
       "      <td>46.696522</td>\n",
       "      <td>1.330185</td>\n",
       "      <td>4.468710</td>\n",
       "      <td>42.829459</td>\n",
       "      <td>19.386962</td>\n",
       "      <td>10.720117</td>\n",
       "    </tr>\n",
       "    <tr>\n",
       "      <th>std</th>\n",
       "      <td>3.995988</td>\n",
       "      <td>19.266494</td>\n",
       "      <td>1.587412</td>\n",
       "      <td>30.138537</td>\n",
       "      <td>0.470295</td>\n",
       "      <td>14.435628</td>\n",
       "      <td>18.963786</td>\n",
       "      <td>9.604569</td>\n",
       "      <td>19.099281</td>\n",
       "    </tr>\n",
       "    <tr>\n",
       "      <th>min</th>\n",
       "      <td>1.000000</td>\n",
       "      <td>0.000000</td>\n",
       "      <td>0.000000</td>\n",
       "      <td>1.000000</td>\n",
       "      <td>1.000000</td>\n",
       "      <td>0.000000</td>\n",
       "      <td>0.000000</td>\n",
       "      <td>0.000000</td>\n",
       "      <td>0.004170</td>\n",
       "    </tr>\n",
       "    <tr>\n",
       "      <th>25%</th>\n",
       "      <td>2.000000</td>\n",
       "      <td>52.000000</td>\n",
       "      <td>0.000000</td>\n",
       "      <td>19.000000</td>\n",
       "      <td>1.000000</td>\n",
       "      <td>0.072920</td>\n",
       "      <td>29.000000</td>\n",
       "      <td>12.000000</td>\n",
       "      <td>2.698437</td>\n",
       "    </tr>\n",
       "    <tr>\n",
       "      <th>50%</th>\n",
       "      <td>5.000000</td>\n",
       "      <td>66.000000</td>\n",
       "      <td>1.000000</td>\n",
       "      <td>47.000000</td>\n",
       "      <td>1.000000</td>\n",
       "      <td>0.647220</td>\n",
       "      <td>41.000000</td>\n",
       "      <td>19.000000</td>\n",
       "      <td>5.998960</td>\n",
       "    </tr>\n",
       "    <tr>\n",
       "      <th>75%</th>\n",
       "      <td>5.000000</td>\n",
       "      <td>76.000000</td>\n",
       "      <td>3.000000</td>\n",
       "      <td>75.000000</td>\n",
       "      <td>2.000000</td>\n",
       "      <td>3.661110</td>\n",
       "      <td>55.000000</td>\n",
       "      <td>26.000000</td>\n",
       "      <td>13.042190</td>\n",
       "    </tr>\n",
       "    <tr>\n",
       "      <th>max</th>\n",
       "      <td>17.000000</td>\n",
       "      <td>102.000000</td>\n",
       "      <td>7.000000</td>\n",
       "      <td>103.000000</td>\n",
       "      <td>2.000000</td>\n",
       "      <td>633.556250</td>\n",
       "      <td>116.000000</td>\n",
       "      <td>61.000000</td>\n",
       "      <td>1376.811110</td>\n",
       "    </tr>\n",
       "  </tbody>\n",
       "</table>\n",
       "</div>"
      ],
      "text/plain": [
       "       TipoAdmissaoId  DoenteIdadeEmAnos  TipoProvenienciaId     ServicoId  \\\n",
       "count    15294.000000       15352.000000        15352.000000  15352.000000   \n",
       "mean         5.006539          61.989252            1.509510     46.696522   \n",
       "std          3.995988          19.266494            1.587412     30.138537   \n",
       "min          1.000000           0.000000            0.000000      1.000000   \n",
       "25%          2.000000          52.000000            0.000000     19.000000   \n",
       "50%          5.000000          66.000000            1.000000     47.000000   \n",
       "75%          5.000000          76.000000            3.000000     75.000000   \n",
       "max         17.000000         102.000000            7.000000    103.000000   \n",
       "\n",
       "       DoenteSexoId  IntervaloAteVentilacaoInvasiva_DataAdmissaoHospitalar  \\\n",
       "count  15352.000000                                        7295.000000       \n",
       "mean       1.330185                                           4.468710       \n",
       "std        0.470295                                          14.435628       \n",
       "min        1.000000                                           0.000000       \n",
       "25%        1.000000                                           0.072920       \n",
       "50%        1.000000                                           0.647220       \n",
       "75%        2.000000                                           3.661110       \n",
       "max        2.000000                                         633.556250       \n",
       "\n",
       "          SAPSScore   APACHEScore  TempoInternamentoEmDias  \n",
       "count  12947.000000  12947.000000             15352.000000  \n",
       "mean      42.829459     19.386962                10.720117  \n",
       "std       18.963786      9.604569                19.099281  \n",
       "min        0.000000      0.000000                 0.004170  \n",
       "25%       29.000000     12.000000                 2.698437  \n",
       "50%       41.000000     19.000000                 5.998960  \n",
       "75%       55.000000     26.000000                13.042190  \n",
       "max      116.000000     61.000000              1376.811110  "
      ]
     },
     "execution_count": 10,
     "metadata": {},
     "output_type": "execute_result"
    }
   ],
   "source": [
    "df_v2.describe()"
   ]
  },
  {
   "cell_type": "markdown",
   "id": "21d2cfaa",
   "metadata": {},
   "source": [
    "#### Data Visualization"
   ]
  },
  {
   "cell_type": "code",
   "execution_count": 262,
   "id": "aa50949f",
   "metadata": {},
   "outputs": [
    {
     "data": {
      "image/png": "[encoded data removed]",
      "text/plain": [
       "<Figure size 720x360 with 1 Axes>"
      ]
     },
     "metadata": {
      "needs_background": "light"
     },
     "output_type": "display_data"
    }
   ],
   "source": [
    "\"\"\"\n",
    "    Box plot - Tempo de Internamento\n",
    "\"\"\"\n",
    "plt.figure(figsize=(10,5))\n",
    "plt.xlim(0,100)\n",
    "plt.xlabel('IMV')\n",
    "sns.boxplot(x=df_v2['NumeroDiasVentilacaoInvasiva'])\n",
    " \n",
    "_median = np.median(df_v2['NumeroDiasVentilacaoInvasiva'])\n",
    "\n",
    "plt.text(8, 0.07,\n",
    "         str('Median: '+str(round(_median, 3))),\n",
    "         bbox=dict(facecolor='white',\n",
    "                   alpha=0.7),\n",
    "         fontsize=12)\n",
    "\n",
    "plt.show()"
   ]
  },
  {
   "cell_type": "code",
   "execution_count": 263,
   "id": "9e04a240",
   "metadata": {},
   "outputs": [
    {
     "data": {
      "text/plain": [
       "[<matplotlib.lines.Line2D at 0x149fa2c9430>]"
      ]
     },
     "execution_count": 263,
     "metadata": {},
     "output_type": "execute_result"
    },
    {
     "data": {
      "image/png": "[encoded data removed]",
      "text/plain": [
       "<Figure size 720x360 with 1 Axes>"
      ]
     },
     "metadata": {
      "needs_background": "light"
     },
     "output_type": "display_data"
    }
   ],
   "source": [
    "plt.figure(figsize=(10,5))\n",
    "plt.plot(df_v2['NumeroDiasVentilacaoInvasiva'])"
   ]
  },
  {
   "cell_type": "markdown",
   "id": "89599476",
   "metadata": {},
   "source": [
    "### Filter the values (Outliers)"
   ]
  },
  {
   "cell_type": "code",
   "execution_count": 267,
   "id": "220f47a3",
   "metadata": {},
   "outputs": [
    {
     "name": "stdout",
     "output_type": "stream",
     "text": [
      "Number of Columns:  15\n",
      "Number of Rows:  6798\n"
     ]
    }
   ],
   "source": [
    "\"\"\"\n",
    "    NumeroDiasVentilacaoInvasiva < 30\n",
    "    \n",
    "\"\"\"\n",
    "df_v2 = df_v2[df_v2['NumeroDiasVentilacaoInvasiva'] < 30]  \n",
    "\n",
    "print(\"Number of Columns: \",df_v2.shape[1])\n",
    "print(\"Number of Rows: \",df_v2.shape[0])"
   ]
  },
  {
   "cell_type": "code",
   "execution_count": 268,
   "id": "8173d995",
   "metadata": {},
   "outputs": [
    {
     "data": {
      "image/png": "[encoded data removed]",
      "text/plain": [
       "<Figure size 720x360 with 1 Axes>"
      ]
     },
     "metadata": {
      "needs_background": "light"
     },
     "output_type": "display_data"
    }
   ],
   "source": [
    "\"\"\"\n",
    "    Density plot - Tempo de Internamento\n",
    "\"\"\"\n",
    "plt.figure(figsize=(10,5))\n",
    "plt.xlim(0,30)\n",
    "plt.xlabel('IMV days')\n",
    "plt.ylabel('Count')\n",
    "plt.hist(df_v2['NumeroDiasVentilacaoInvasiva'], alpha=0.5,bins=30, rwidth = 0.95)\n",
    "plt.show()"
   ]
  },
  {
   "cell_type": "code",
   "execution_count": 269,
   "id": "d48d4389",
   "metadata": {},
   "outputs": [
    {
     "name": "stdout",
     "output_type": "stream",
     "text": [
      "TipoAdmissaoId                                            35\n",
      "DoenteIdadeEmAnos                                          0\n",
      "TipoProvenienciaId                                         0\n",
      "ServicoId                                                  0\n",
      "DoenteSexoId                                               0\n",
      "IntervaloAteVentilacaoInvasiva_DataAdmissaoHospitalar    201\n",
      "SAPSScore                                                442\n",
      "APACHEScore                                              442\n",
      "PaoFioRatio                                              600\n",
      "DPOC                                                       0\n",
      "InsufRenal                                                 0\n",
      "Bonquite                                                   0\n",
      "Enfisema                                                   0\n",
      "DoencaRespiratoria                                         0\n",
      "NumeroDiasVentilacaoInvasiva                               0\n",
      "dtype: int64\n",
      "Number of Rows:  6009\n"
     ]
    }
   ],
   "source": [
    "\"\"\"\n",
    "    Deal with missing values\n",
    "\"\"\"\n",
    "print(df_v2.isnull().sum())  \n",
    "\n",
    "# Remove rows with missing values\n",
    "df_v2.dropna(axis=0, inplace=True)\n",
    "print(\"Number of Rows: \",df_v2.shape[0])"
   ]
  },
  {
   "cell_type": "code",
   "execution_count": 11,
   "id": "ab44c0a1",
   "metadata": {},
   "outputs": [
    {
     "data": {
      "image/png": "[encoded data removed]",
      "text/plain": [
       "<Figure size 864x720 with 2 Axes>"
      ]
     },
     "metadata": {
      "needs_background": "light"
     },
     "output_type": "display_data"
    }
   ],
   "source": [
    "\"\"\"\n",
    "    Correlation Matrix \n",
    "\"\"\" \n",
    "plt.figure(figsize=(12,10))\n",
    "cor = df_v2.corr()\n",
    "sns.heatmap(cor,vmax=1,square=True,annot=True)\n",
    "plt.show()"
   ]
  },
  {
   "cell_type": "code",
   "execution_count": 271,
   "id": "9d059b35",
   "metadata": {},
   "outputs": [
    {
     "name": "stdout",
     "output_type": "stream",
     "text": [
      "Features: 14\n",
      "Examples: 6009\n"
     ]
    }
   ],
   "source": [
    "\"\"\"\n",
    "    Get Variables\n",
    "\"\"\"\n",
    "y = df_v2.values[:,-1].astype(float) # df_v2['NumeroDiasVentilacaoInvasiva']\n",
    "X = df_v2.values[:,:-1].astype(float)\n",
    "\n",
    "print(f\"Features: {len(X[0])}\")\n",
    "print(f\"Examples: {len(X)}\")"
   ]
  },
  {
   "cell_type": "markdown",
   "id": "77324be9",
   "metadata": {},
   "source": [
    "### Feature Importance"
   ]
  },
  {
   "cell_type": "code",
   "execution_count": 272,
   "id": "8ff348af",
   "metadata": {},
   "outputs": [],
   "source": [
    "\"\"\"\n",
    "    Permutation importance\n",
    "\"\"\"\n",
    "def get_permutation_importance(X, y, model,colnames):\n",
    "    result = permutation_importance(model, X, y, n_repeats=1,\n",
    "                                random_state=0)\n",
    "    \n",
    "    # permutational importance results\n",
    "    result_df = pd.DataFrame(colnames,  columns=['Feature'])\n",
    "    result_df['permutation_importance'] = result.get('importances')\n",
    "    \n",
    "    return result_df"
   ]
  },
  {
   "cell_type": "code",
   "execution_count": 273,
   "id": "a0696ee1",
   "metadata": {},
   "outputs": [
    {
     "data": {
      "text/html": [
       "<style  type=\"text/css\" >\n",
       "#T_ea916_row0_col1{\n",
       "            background-color:  #08306b;\n",
       "            color:  #f1f1f1;\n",
       "        }#T_ea916_row1_col1{\n",
       "            background-color:  #3b8bc2;\n",
       "            color:  #000000;\n",
       "        }#T_ea916_row2_col1{\n",
       "            background-color:  #4d99ca;\n",
       "            color:  #000000;\n",
       "        }#T_ea916_row3_col1{\n",
       "            background-color:  #5aa2cf;\n",
       "            color:  #000000;\n",
       "        }#T_ea916_row4_col1{\n",
       "            background-color:  #5ca4d0;\n",
       "            color:  #000000;\n",
       "        }#T_ea916_row5_col1{\n",
       "            background-color:  #77b5d9;\n",
       "            color:  #000000;\n",
       "        }#T_ea916_row6_col1{\n",
       "            background-color:  #d1e2f3;\n",
       "            color:  #000000;\n",
       "        }#T_ea916_row7_col1{\n",
       "            background-color:  #d8e7f5;\n",
       "            color:  #000000;\n",
       "        }#T_ea916_row8_col1{\n",
       "            background-color:  #deebf7;\n",
       "            color:  #000000;\n",
       "        }#T_ea916_row9_col1{\n",
       "            background-color:  #eaf2fb;\n",
       "            color:  #000000;\n",
       "        }#T_ea916_row10_col1{\n",
       "            background-color:  #f6faff;\n",
       "            color:  #000000;\n",
       "        }#T_ea916_row11_col1,#T_ea916_row12_col1,#T_ea916_row13_col1{\n",
       "            background-color:  #f7fbff;\n",
       "            color:  #000000;\n",
       "        }</style><table id=\"T_ea916_\" ><thead>    <tr>        <th class=\"blank level0\" ></th>        <th class=\"col_heading level0 col0\" >Feature</th>        <th class=\"col_heading level0 col1\" >permutation_importance</th>    </tr></thead><tbody>\n",
       "                <tr>\n",
       "                        <th id=\"T_ea916_level0_row0\" class=\"row_heading level0 row0\" >3</th>\n",
       "                        <td id=\"T_ea916_row0_col0\" class=\"data row0 col0\" >ServicoId</td>\n",
       "                        <td id=\"T_ea916_row0_col1\" class=\"data row0 col1\" >0.630812</td>\n",
       "            </tr>\n",
       "            <tr>\n",
       "                        <th id=\"T_ea916_level0_row1\" class=\"row_heading level0 row1\" >6</th>\n",
       "                        <td id=\"T_ea916_row1_col0\" class=\"data row1 col0\" >SAPSScore</td>\n",
       "                        <td id=\"T_ea916_row1_col1\" class=\"data row1 col1\" >0.410531</td>\n",
       "            </tr>\n",
       "            <tr>\n",
       "                        <th id=\"T_ea916_level0_row2\" class=\"row_heading level0 row2\" >8</th>\n",
       "                        <td id=\"T_ea916_row2_col0\" class=\"data row2 col0\" >PaoFioRatio</td>\n",
       "                        <td id=\"T_ea916_row2_col1\" class=\"data row2 col1\" >0.373897</td>\n",
       "            </tr>\n",
       "            <tr>\n",
       "                        <th id=\"T_ea916_level0_row3\" class=\"row_heading level0 row3\" >5</th>\n",
       "                        <td id=\"T_ea916_row3_col0\" class=\"data row3 col0\" >IntervaloAteVentilacaoInvasiva_DataAdmissaoHospitalar</td>\n",
       "                        <td id=\"T_ea916_row3_col1\" class=\"data row3 col1\" >0.347736</td>\n",
       "            </tr>\n",
       "            <tr>\n",
       "                        <th id=\"T_ea916_level0_row4\" class=\"row_heading level0 row4\" >1</th>\n",
       "                        <td id=\"T_ea916_row4_col0\" class=\"data row4 col0\" >DoenteIdadeEmAnos</td>\n",
       "                        <td id=\"T_ea916_row4_col1\" class=\"data row4 col1\" >0.344550</td>\n",
       "            </tr>\n",
       "            <tr>\n",
       "                        <th id=\"T_ea916_level0_row5\" class=\"row_heading level0 row5\" >7</th>\n",
       "                        <td id=\"T_ea916_row5_col0\" class=\"data row5 col0\" >APACHEScore</td>\n",
       "                        <td id=\"T_ea916_row5_col1\" class=\"data row5 col1\" >0.296299</td>\n",
       "            </tr>\n",
       "            <tr>\n",
       "                        <th id=\"T_ea916_level0_row6\" class=\"row_heading level0 row6\" >13</th>\n",
       "                        <td id=\"T_ea916_row6_col0\" class=\"data row6 col0\" >DoencaRespiratoria</td>\n",
       "                        <td id=\"T_ea916_row6_col1\" class=\"data row6 col1\" >0.122634</td>\n",
       "            </tr>\n",
       "            <tr>\n",
       "                        <th id=\"T_ea916_level0_row7\" class=\"row_heading level0 row7\" >2</th>\n",
       "                        <td id=\"T_ea916_row7_col0\" class=\"data row7 col0\" >TipoProvenienciaId</td>\n",
       "                        <td id=\"T_ea916_row7_col1\" class=\"data row7 col1\" >0.100463</td>\n",
       "            </tr>\n",
       "            <tr>\n",
       "                        <th id=\"T_ea916_level0_row8\" class=\"row_heading level0 row8\" >0</th>\n",
       "                        <td id=\"T_ea916_row8_col0\" class=\"data row8 col0\" >TipoAdmissaoId</td>\n",
       "                        <td id=\"T_ea916_row8_col1\" class=\"data row8 col1\" >0.080827</td>\n",
       "            </tr>\n",
       "            <tr>\n",
       "                        <th id=\"T_ea916_level0_row9\" class=\"row_heading level0 row9\" >4</th>\n",
       "                        <td id=\"T_ea916_row9_col0\" class=\"data row9 col0\" >DoenteSexoId</td>\n",
       "                        <td id=\"T_ea916_row9_col1\" class=\"data row9 col1\" >0.044268</td>\n",
       "            </tr>\n",
       "            <tr>\n",
       "                        <th id=\"T_ea916_level0_row10\" class=\"row_heading level0 row10\" >10</th>\n",
       "                        <td id=\"T_ea916_row10_col0\" class=\"data row10 col0\" >InsufRenal</td>\n",
       "                        <td id=\"T_ea916_row10_col1\" class=\"data row10 col1\" >0.003644</td>\n",
       "            </tr>\n",
       "            <tr>\n",
       "                        <th id=\"T_ea916_level0_row11\" class=\"row_heading level0 row11\" >11</th>\n",
       "                        <td id=\"T_ea916_row11_col0\" class=\"data row11 col0\" >Bonquite</td>\n",
       "                        <td id=\"T_ea916_row11_col1\" class=\"data row11 col1\" >0.002106</td>\n",
       "            </tr>\n",
       "            <tr>\n",
       "                        <th id=\"T_ea916_level0_row12\" class=\"row_heading level0 row12\" >12</th>\n",
       "                        <td id=\"T_ea916_row12_col0\" class=\"data row12 col0\" >Enfisema</td>\n",
       "                        <td id=\"T_ea916_row12_col1\" class=\"data row12 col1\" >0.000719</td>\n",
       "            </tr>\n",
       "            <tr>\n",
       "                        <th id=\"T_ea916_level0_row13\" class=\"row_heading level0 row13\" >9</th>\n",
       "                        <td id=\"T_ea916_row13_col0\" class=\"data row13 col0\" >DPOC</td>\n",
       "                        <td id=\"T_ea916_row13_col1\" class=\"data row13 col1\" >0.000650</td>\n",
       "            </tr>\n",
       "    </tbody></table>"
      ],
      "text/plain": [
       "<pandas.io.formats.style.Styler at 0x149f3b2cf10>"
      ]
     },
     "execution_count": 273,
     "metadata": {},
     "output_type": "execute_result"
    }
   ],
   "source": [
    "# define the model\n",
    "model = RandomForestRegressor()\n",
    "# fit the model\n",
    "model.fit(X, y)\n",
    "\n",
    "colnames = list(df_v2.columns)[:-1]\n",
    "permutate_df = get_permutation_importance(X, y, model, colnames)\n",
    "permutate_df.sort_values('permutation_importance', \n",
    "                   ascending=False)[\n",
    "                                    ['Feature','permutation_importance'\n",
    "                                    ]\n",
    "                                  ][:30].style.background_gradient(cmap='Blues')"
   ]
  },
  {
   "cell_type": "markdown",
   "id": "14bf09af",
   "metadata": {},
   "source": [
    "### Split data to test"
   ]
  },
  {
   "cell_type": "code",
   "execution_count": 274,
   "id": "8498abd2",
   "metadata": {},
   "outputs": [
    {
     "name": "stdout",
     "output_type": "stream",
     "text": [
      "Examples to train: 4807\n"
     ]
    }
   ],
   "source": [
    "# Split\n",
    "X_train, X_test, y_train, y_test = train_test_split(X, y, test_size = 0.2)\n",
    "print(\"Examples to train: {}\".format(len(X_train)))"
   ]
  },
  {
   "cell_type": "markdown",
   "id": "02d0f411",
   "metadata": {},
   "source": [
    "# Models Validation"
   ]
  },
  {
   "cell_type": "markdown",
   "id": "2affc2f8",
   "metadata": {},
   "source": [
    "### GridSearchCV to get the best hyperparameters   |  Cross-validation with 4 folds   "
   ]
  },
  {
   "cell_type": "markdown",
   "id": "465c855a",
   "metadata": {},
   "source": [
    "## Deep Learning model"
   ]
  },
  {
   "cell_type": "code",
   "execution_count": 1,
   "id": "5e951ffd",
   "metadata": {},
   "outputs": [
    {
     "ename": "NameError",
     "evalue": "name 'KerasRegressor' is not defined",
     "output_type": "error",
     "traceback": [
      "\u001b[1;31m---------------------------------------------------------------------------\u001b[0m",
      "\u001b[1;31mNameError\u001b[0m                                 Traceback (most recent call last)",
      "\u001b[1;32m<ipython-input-1-30830ef87763>\u001b[0m in \u001b[0;36m<module>\u001b[1;34m\u001b[0m\n\u001b[0;32m     14\u001b[0m \u001b[1;33m\u001b[0m\u001b[0m\n\u001b[0;32m     15\u001b[0m \u001b[1;31m# create model\u001b[0m\u001b[1;33m\u001b[0m\u001b[1;33m\u001b[0m\u001b[1;33m\u001b[0m\u001b[0m\n\u001b[1;32m---> 16\u001b[1;33m \u001b[0mmodel\u001b[0m \u001b[1;33m=\u001b[0m \u001b[0mKerasRegressor\u001b[0m\u001b[1;33m(\u001b[0m\u001b[0mmodel\u001b[0m\u001b[1;33m=\u001b[0m\u001b[0mdl_model\u001b[0m\u001b[1;33m,\u001b[0m \u001b[0mepochs\u001b[0m\u001b[1;33m=\u001b[0m\u001b[1;36m100\u001b[0m\u001b[1;33m,\u001b[0m \u001b[0mbatch_size\u001b[0m\u001b[1;33m=\u001b[0m\u001b[1;36m10\u001b[0m\u001b[1;33m,\u001b[0m \u001b[0mverbose\u001b[0m\u001b[1;33m=\u001b[0m\u001b[1;36m0\u001b[0m\u001b[1;33m)\u001b[0m\u001b[1;33m\u001b[0m\u001b[1;33m\u001b[0m\u001b[0m\n\u001b[0m\u001b[0;32m     17\u001b[0m \u001b[1;31m# define the grid search parameters\u001b[0m\u001b[1;33m\u001b[0m\u001b[1;33m\u001b[0m\u001b[1;33m\u001b[0m\u001b[0m\n\u001b[0;32m     18\u001b[0m \u001b[1;31m#batch_size = [5, 10, 20, 40, 60, 80, 100]\u001b[0m\u001b[1;33m\u001b[0m\u001b[1;33m\u001b[0m\u001b[1;33m\u001b[0m\u001b[0m\n",
      "\u001b[1;31mNameError\u001b[0m: name 'KerasRegressor' is not defined"
     ]
    }
   ],
   "source": [
    "\"\"\"\n",
    "    Tune Batch Size and Number of Epochs\n",
    "\"\"\"\n",
    "def dl_model():       #Best: {'batch_size': 10, 'epochs': 100}\n",
    "    # create model\n",
    "    model = Sequential()\n",
    "    model.add(Dense(12, input_dim=len(X_train[0]), activation='relu'))\n",
    "    # Output layer\n",
    "    model.add(Dense(1, activation='linear'))\n",
    "    # Compile model\n",
    "    model.compile(loss='mean_squared_error', optimizer='adam', metrics=['mae'])\n",
    "    return model\n",
    "\n",
    "\n",
    "# create model\n",
    "model = KerasRegressor(model=dl_model, epochs=100, batch_size=10, verbose=0)\n",
    "# define the grid search parameters\n",
    "#batch_size = [5, 10, 20, 40, 60, 80, 100]\n",
    "batch_size = [5, 10, 20]\n",
    "epochs = [10, 50, 100, 150]\n",
    "param_grid = dict(batch_size=batch_size, epochs=epochs)\n",
    "dl_grid = GridSearchCV(estimator=model, param_grid=param_grid, n_jobs=-1, cv=4)\n",
    "\n",
    "grid_result = dl_grid.fit(X_train, y_train)\n",
    "# summarize results\n",
    "print(\"Best: %f using %s\" % (grid_result.best_score_, grid_result.best_params_))"
   ]
  },
  {
   "cell_type": "code",
   "execution_count": 66,
   "id": "9848dd69",
   "metadata": {},
   "outputs": [],
   "source": [
    "scores_dl = list(dl_grid.cv_results_['mean_test_score'])\n",
    "best_score_dl = dl_grid.best_score_"
   ]
  },
  {
   "cell_type": "code",
   "execution_count": 291,
   "id": "7e89bff8",
   "metadata": {},
   "outputs": [
    {
     "data": {
      "image/png": "[encoded data removed]",
      "text/plain": [
       "<Figure size 432x288 with 1 Axes>"
      ]
     },
     "metadata": {
      "needs_background": "light"
     },
     "output_type": "display_data"
    }
   ],
   "source": [
    "plt.plot(scores_dl)\n",
    "plt.scatter([scores_dl.index(best_score_dl)],[best_score_dl], color = 'red')\n",
    "plt.ylabel('Score value')\n",
    "plt.show()"
   ]
  },
  {
   "cell_type": "code",
   "execution_count": null,
   "id": "26c8d4c1",
   "metadata": {},
   "outputs": [],
   "source": [
    "\"\"\"\n",
    "    Tune the Training Optimization Algorithm     Best {'optimizer': 'Adamax'}\n",
    "\"\"\"\n",
    "def dl_model():\n",
    "    # create model\n",
    "    model = Sequential()\n",
    "    model.add(Dense(12, input_dim=len(X_train[0]), activation='relu'))\n",
    "    # Output layer\n",
    "    model.add(Dense(1, activation='linear'))\n",
    "    # return model without compile\n",
    "    return model\n",
    "\n",
    "\n",
    "# create model\n",
    "model = KerasRegressor(model=dl_model, loss=\"mean_squared_error\", epochs=100, batch_size=10, verbose=0)\n",
    "# define the grid search parameters\n",
    "optimizer = ['SGD', 'RMSprop', 'Adagrad', 'Adadelta', 'Adam', 'Adamax', 'Nadam']\n",
    "param_grid = dict(optimizer=optimizer)\n",
    "grid = GridSearchCV(estimator=model, param_grid=param_grid, n_jobs=-1, cv=4)\n",
    "grid_result = grid.fit(X_train, y_train)\n",
    "# summarize results\n",
    "print(\"Best: %f using %s\" % (grid_result.best_score_, grid_result.best_params_))"
   ]
  },
  {
   "cell_type": "code",
   "execution_count": 54,
   "id": "4187de0a",
   "metadata": {},
   "outputs": [
    {
     "name": "stdout",
     "output_type": "stream",
     "text": [
      "Best: 0.011949 using {'model__activation': 'linear'}\n"
     ]
    }
   ],
   "source": [
    "\"\"\"\n",
    "    Tune the Neuron Activation Function     Best {'model__activation': 'sigmoid'}\n",
    "\"\"\"\n",
    "def dl_model(activation='relu'):\n",
    "    # create model\n",
    "    model = Sequential()\n",
    "    model.add(Dense(12, input_dim=len(X_train[0]), activation=activation))\n",
    "    model.add(Dense(1, activation='linear'))\n",
    "    # Compile model\n",
    "    model.compile(loss='mean_squared_error', optimizer='Adamax', metrics=['mae'])\n",
    "    return model\n",
    "\n",
    "\n",
    "# create model\n",
    "model = KerasRegressor(model=dl_model, epochs=100, batch_size=10, verbose=0)\n",
    "# define the grid search parameters\n",
    "activation = ['softmax', 'softplus', 'softsign', 'relu', 'tanh', 'sigmoid', 'hard_sigmoid', 'linear']\n",
    "param_grid = dict(model__activation=activation)\n",
    "dl_grid = GridSearchCV(estimator=model, param_grid=param_grid, n_jobs=-1, cv=4)\n",
    "grid_result = dl_grid.fit(X_train, y_train)\n",
    "# summarize results\n",
    "print(\"Best: %f using %s\" % (grid_result.best_score_, grid_result.best_params_))"
   ]
  },
  {
   "cell_type": "code",
   "execution_count": 151,
   "id": "d35b2f66",
   "metadata": {},
   "outputs": [
    {
     "name": "stdout",
     "output_type": "stream",
     "text": [
      "Best: 0.034697 using {'model__neurons': 200}\n"
     ]
    }
   ],
   "source": [
    "\"\"\"\n",
    "    Tune the Number of Neurons in the Hidden Layer     Best {'model__neurons': 30}\n",
    "\"\"\"\n",
    "def dl_model(neurons):\n",
    "    # create model\n",
    "    model = Sequential()\n",
    "    model.add(Dense(neurons, input_dim=len(X_train[0]), activation='linear'))\n",
    "    model.add(Dense(neurons, input_dim=len(X_train[0]), activation='linear'))\n",
    "    model.add(Dense(neurons, input_dim=len(X_train[0]), activation='linear'))\n",
    "    model.add(Dense(1, activation='linear'))\n",
    "    # Compile model\n",
    "    model.compile(loss='mean_squared_error', optimizer='Adamax', metrics=['mae'])\n",
    "    return model\n",
    "\n",
    "\n",
    "# create model\n",
    "model = KerasRegressor(model=dl_model, epochs=100, batch_size=10, verbose=0)\n",
    "# define the grid search parameters\n",
    "neurons = [1, 10, 30, 60, 100, 200]\n",
    "param_grid = dict(model__neurons=neurons)\n",
    "dl_grid = GridSearchCV(estimator=model, param_grid=param_grid, n_jobs=-1, cv=4)\n",
    "grid_result = dl_grid.fit(X_train, y_train)\n",
    "# summarize results\n",
    "print(\"Best: %f using %s\" % (grid_result.best_score_, grid_result.best_params_))"
   ]
  },
  {
   "cell_type": "markdown",
   "id": "93441b83",
   "metadata": {},
   "source": [
    "## Artificial Neural Network"
   ]
  },
  {
   "cell_type": "code",
   "execution_count": 71,
   "id": "96edc3a3",
   "metadata": {},
   "outputs": [
    {
     "name": "stdout",
     "output_type": "stream",
     "text": [
      "Fitting 4 folds for each of 60 candidates, totalling 240 fits\n",
      "Best:  {'activation': 'tanh', 'alpha': 0.001, 'hidden_layer_sizes': (32, 32), 'learning_rate': 'adaptive', 'solver': 'adam'}\n"
     ]
    }
   ],
   "source": [
    "\"\"\"\n",
    "    Define our candidate hyperparameters     \n",
    "\"\"\"\n",
    "\n",
    "nn_model = MLPRegressor()\n",
    "\n",
    "hp_candidates_mlp = {'hidden_layer_sizes': [8,16,(8,8), (16,16), (32,32)],\n",
    "          'activation': ['relu','tanh'],\n",
    "          'alpha': [0.0001, 0.01, 0.001],\n",
    "          'learning_rate': ['constant','adaptive'],\n",
    "          'solver': ['adam']}\n",
    "\n",
    "nn_grid = GridSearchCV(estimator = nn_model, param_grid = hp_candidates_mlp, \n",
    "                          cv = 4, n_jobs = -1, verbose = 2)\n",
    "\n",
    "# Fit the grid search to the data\n",
    "nn_grid.fit(X_train, y_train)\n",
    "best_nn_params = nn_grid.best_params_\n",
    "\n",
    "            \n",
    "print(\"Best: \",best_nn_params)   #Best:  {'activation': 'tanh', 'alpha': 0.001, 'hidden_layer_sizes': (32, 32), 'learning_rate': 'adaptive', 'solver': 'adam'}"
   ]
  },
  {
   "cell_type": "code",
   "execution_count": 72,
   "id": "75483e38",
   "metadata": {},
   "outputs": [],
   "source": [
    "scores_nn = list(nn_grid.cv_results_['mean_test_score'])\n",
    "best_score_nn = nn_grid.best_score_"
   ]
  },
  {
   "cell_type": "code",
   "execution_count": 73,
   "id": "a61c6b5d",
   "metadata": {},
   "outputs": [
    {
     "data": {
      "image/png": "[encoded data removed]",
      "text/plain": [
       "<Figure size 432x288 with 1 Axes>"
      ]
     },
     "metadata": {
      "needs_background": "light"
     },
     "output_type": "display_data"
    }
   ],
   "source": [
    "plt.plot(scores_nn)\n",
    "plt.scatter([scores_nn.index(best_score_nn)],[best_score_nn], color = 'red')\n",
    "plt.ylabel('Score value')\n",
    "plt.show()"
   ]
  },
  {
   "cell_type": "markdown",
   "id": "c590d2b1",
   "metadata": {},
   "source": [
    "## Random Forest"
   ]
  },
  {
   "cell_type": "code",
   "execution_count": 97,
   "id": "7196d177",
   "metadata": {},
   "outputs": [
    {
     "name": "stdout",
     "output_type": "stream",
     "text": [
      "Fitting 4 folds for each of 144 candidates, totalling 576 fits\n",
      "Best:  {'max_depth': 110, 'min_samples_leaf': 5, 'min_samples_split': 12, 'n_estimators': 1000}\n"
     ]
    }
   ],
   "source": [
    "\"\"\"\n",
    "    Define candidate hyperparameters\n",
    "\"\"\"\n",
    "#hp_candidates_rf = {'n_estimators': [10, 50, 100, 200], 'max_depth': [3,10,80, 90, 110]}\n",
    "\n",
    "hp_candidates_rf = {\n",
    "    'max_depth': [80, 90, 100, 110],\n",
    "    \n",
    "    'n_estimators': [100, 200, 300, 1000],\n",
    "}\n",
    "\n",
    "\n",
    "# Instantiate the grid search model\n",
    "rf = RandomForestRegressor()\n",
    "\n",
    "rf_grid = GridSearchCV(estimator = rf, param_grid = hp_candidates_rf,\n",
    "                           scoring='r2',\n",
    "                          cv = 4, n_jobs = -1, verbose = 2)\n",
    "\n",
    "# Fit the grid search to the data\n",
    "rf_grid.fit(X_train, y_train)\n",
    "best_rf_params = rf_grid.best_params_\n",
    "            \n",
    "print(\"Best: \",best_rf_params)  #Best:  {'max_depth': 90, 'n_estimators': 1000}"
   ]
  },
  {
   "cell_type": "code",
   "execution_count": 75,
   "id": "4b84f6f3",
   "metadata": {},
   "outputs": [],
   "source": [
    "scores_rf = list(rf_grid.cv_results_['mean_test_score'])\n",
    "best_score_rf = rf_grid.best_score_"
   ]
  },
  {
   "cell_type": "code",
   "execution_count": 76,
   "id": "214a6650",
   "metadata": {},
   "outputs": [
    {
     "data": {
      "image/png": "[encoded data removed]",
      "text/plain": [
       "<Figure size 432x288 with 1 Axes>"
      ]
     },
     "metadata": {
      "needs_background": "light"
     },
     "output_type": "display_data"
    }
   ],
   "source": [
    "plt.plot(scores_rf)\n",
    "plt.scatter([scores_rf.index(best_score_rf)],[best_score_rf], color = 'red')\n",
    "plt.ylabel('Score value')\n",
    "plt.show()"
   ]
  },
  {
   "cell_type": "markdown",
   "id": "efa93c19",
   "metadata": {},
   "source": [
    "### Linear Regression"
   ]
  },
  {
   "cell_type": "code",
   "execution_count": 80,
   "id": "e59d07fa",
   "metadata": {},
   "outputs": [
    {
     "name": "stdout",
     "output_type": "stream",
     "text": [
      "Fitting 4 folds for each of 9 candidates, totalling 36 fits\n",
      "Best:  {'alpha': 0.05}\n"
     ]
    }
   ],
   "source": [
    "\"\"\"\n",
    "    Define our candidate hyperparameters - Lasso    \n",
    "\"\"\"\n",
    "lasso_model = Lasso()\n",
    "hp_candidates_lasso = {'alpha': [0.5, 0.05, 0.005, 0.0005, 1, 0.1, 0.01,0.001, 0.0001]}\n",
    "\n",
    "lasso_grid = GridSearchCV(lasso_model, # model\n",
    "            param_grid = hp_candidates_lasso, # hyperparameters\n",
    "            scoring='neg_mean_squared_error', # metric for scoring\n",
    "            cv=4,\n",
    "            n_jobs=-1, error_score='raise', verbose=3)\n",
    "        \n",
    "lasso_grid.fit(X_train, y_train)\n",
    "best_lasso_params = lasso_grid.best_params_\n",
    "            \n",
    "print(\"Best: \",best_lasso_params)   #Best:   {'alpha': 0.05}"
   ]
  },
  {
   "cell_type": "code",
   "execution_count": 81,
   "id": "33b2807f",
   "metadata": {},
   "outputs": [],
   "source": [
    "scores_lasso = list(lasso_grid.cv_results_['mean_test_score'])\n",
    "best_score_lasso = lasso_grid.best_score_"
   ]
  },
  {
   "cell_type": "code",
   "execution_count": 82,
   "id": "635dcf7a",
   "metadata": {},
   "outputs": [
    {
     "data": {
      "image/png": "[encoded data removed]",
      "text/plain": [
       "<Figure size 432x288 with 1 Axes>"
      ]
     },
     "metadata": {
      "needs_background": "light"
     },
     "output_type": "display_data"
    }
   ],
   "source": [
    "plt.plot(scores_lasso)\n",
    "plt.scatter([scores_lasso.index(best_score_lasso)],[best_score_lasso], color = 'red')\n",
    "plt.ylabel('Score value')\n",
    "plt.show()"
   ]
  },
  {
   "cell_type": "code",
   "execution_count": 84,
   "id": "f890956b",
   "metadata": {},
   "outputs": [
    {
     "name": "stdout",
     "output_type": "stream",
     "text": [
      "Fitting 4 folds for each of 1 candidates, totalling 4 fits\n",
      "Best:  {}\n"
     ]
    }
   ],
   "source": [
    "\"\"\"\n",
    "    Linear Regression   \n",
    "\"\"\"\n",
    "lr_model = LinearRegression()\n",
    "hp_candidates_lr = {}\n",
    "\n",
    "lr_grid = GridSearchCV(lr_model, # model\n",
    "            param_grid = hp_candidates_lr, # hyperparameters\n",
    "            scoring='neg_mean_absolute_error', # metric for scoring\n",
    "            cv=4,\n",
    "            n_jobs=-1, error_score='raise', verbose=3)\n",
    "        \n",
    "lr_grid.fit(X_train, y_train)\n",
    "best_lr_params = lr_grid.best_params_\n",
    "\n",
    "print(\"Best: \",best_lr_params)   #Best:  {'mspe': 6277.783269404937, 'candidates': 0.5}"
   ]
  },
  {
   "cell_type": "markdown",
   "id": "619b8df8",
   "metadata": {},
   "source": [
    "## Results Comparison"
   ]
  },
  {
   "cell_type": "code",
   "execution_count": 276,
   "id": "12b6dc52",
   "metadata": {},
   "outputs": [],
   "source": [
    "\"\"\"\n",
    "    Define base model    -   This network configuration is based on literature\n",
    "\"\"\" \n",
    "def dl():\n",
    "    # create model\n",
    "    model = Sequential()\n",
    "    \n",
    "    model.add(Dense(200, input_dim=len(X_train[0])))\n",
    "    \n",
    "    model.add(Dense(200, activation='sigmoid'))\n",
    "    \n",
    "    model.add(Dense(200, activation='sigmoid'))\n",
    "    \n",
    "    # Output layer\n",
    "    model.add(Dense(1, activation='linear'))\n",
    "    \n",
    "    # Compile model\n",
    "    model.compile(loss = 'mean_squared_error',optimizer = 'Nadam', metrics = ['mae'])\n",
    "    return model"
   ]
  },
  {
   "cell_type": "code",
   "execution_count": 277,
   "id": "a7330f65",
   "metadata": {},
   "outputs": [
    {
     "name": "stdout",
     "output_type": "stream",
     "text": [
      "Epoch 1/100\n",
      "151/151 [==============================] - 1s 5ms/step - loss: 55.2256 - mae: 5.9317 - val_loss: 53.1737 - val_mae: 5.9481\n",
      "Epoch 2/100\n",
      "151/151 [==============================] - 1s 4ms/step - loss: 52.2278 - mae: 5.8622 - val_loss: 53.2587 - val_mae: 5.9803\n",
      "Epoch 3/100\n",
      "151/151 [==============================] - 1s 4ms/step - loss: 52.1436 - mae: 5.8671 - val_loss: 53.5069 - val_mae: 5.7864\n",
      "Epoch 4/100\n",
      "151/151 [==============================] - 1s 3ms/step - loss: 52.1703 - mae: 5.8553 - val_loss: 53.3286 - val_mae: 5.8069\n",
      "Epoch 5/100\n",
      "151/151 [==============================] - 1s 4ms/step - loss: 52.0548 - mae: 5.8529 - val_loss: 53.0258 - val_mae: 5.9480\n",
      "Epoch 6/100\n",
      "151/151 [==============================] - 1s 4ms/step - loss: 52.0100 - mae: 5.8552 - val_loss: 53.2487 - val_mae: 5.8013\n",
      "Epoch 7/100\n",
      "151/151 [==============================] - 1s 4ms/step - loss: 51.9150 - mae: 5.8443 - val_loss: 53.0531 - val_mae: 5.8185\n",
      "Epoch 8/100\n",
      "151/151 [==============================] - 1s 4ms/step - loss: 51.9038 - mae: 5.8382 - val_loss: 52.8637 - val_mae: 5.9136\n",
      "Epoch 9/100\n",
      "151/151 [==============================] - 1s 4ms/step - loss: 51.9264 - mae: 5.8392 - val_loss: 52.9604 - val_mae: 5.9255\n",
      "Epoch 10/100\n",
      "151/151 [==============================] - 1s 4ms/step - loss: 51.9556 - mae: 5.8560 - val_loss: 52.8457 - val_mae: 5.8615\n",
      "Epoch 11/100\n",
      "151/151 [==============================] - 1s 4ms/step - loss: 51.8321 - mae: 5.8465 - val_loss: 52.7217 - val_mae: 5.8607\n",
      "Epoch 12/100\n",
      "151/151 [==============================] - 1s 4ms/step - loss: 51.7449 - mae: 5.8351 - val_loss: 52.9297 - val_mae: 5.8994\n",
      "Epoch 13/100\n",
      "151/151 [==============================] - 1s 4ms/step - loss: 51.8735 - mae: 5.8399 - val_loss: 53.0927 - val_mae: 5.9922\n",
      "Epoch 14/100\n",
      "151/151 [==============================] - 1s 4ms/step - loss: 51.8029 - mae: 5.8416 - val_loss: 53.2039 - val_mae: 6.0218\n",
      "Epoch 15/100\n",
      "151/151 [==============================] - 1s 4ms/step - loss: 51.8001 - mae: 5.8433 - val_loss: 52.9141 - val_mae: 5.9252\n",
      "Epoch 16/100\n",
      "151/151 [==============================] - 1s 4ms/step - loss: 51.8235 - mae: 5.8418 - val_loss: 53.0791 - val_mae: 5.8209\n",
      "Epoch 17/100\n",
      "151/151 [==============================] - 1s 4ms/step - loss: 51.8316 - mae: 5.8295 - val_loss: 52.9389 - val_mae: 5.9786\n",
      "Epoch 18/100\n",
      "151/151 [==============================] - 1s 4ms/step - loss: 51.7625 - mae: 5.8354 - val_loss: 52.8162 - val_mae: 5.8789\n",
      "Epoch 19/100\n",
      "151/151 [==============================] - 1s 4ms/step - loss: 51.6725 - mae: 5.8281 - val_loss: 52.8414 - val_mae: 5.9485\n",
      "Epoch 20/100\n",
      "151/151 [==============================] - 1s 4ms/step - loss: 51.6841 - mae: 5.8334 - val_loss: 52.8171 - val_mae: 5.9205\n",
      "Epoch 21/100\n",
      "151/151 [==============================] - 1s 4ms/step - loss: 51.7372 - mae: 5.8300 - val_loss: 52.9211 - val_mae: 5.9571\n",
      "Epoch 22/100\n",
      "151/151 [==============================] - 5s 35ms/step - loss: 51.7054 - mae: 5.8338 - val_loss: 52.8604 - val_mae: 5.9913\n",
      "Epoch 23/100\n",
      "151/151 [==============================] - 3s 22ms/step - loss: 51.6407 - mae: 5.8286 - val_loss: 52.6631 - val_mae: 5.8377\n",
      "Epoch 24/100\n",
      "151/151 [==============================] - 1s 4ms/step - loss: 51.6348 - mae: 5.8172 - val_loss: 52.8761 - val_mae: 5.8126\n",
      "Epoch 25/100\n",
      "151/151 [==============================] - 1s 4ms/step - loss: 51.5554 - mae: 5.8106 - val_loss: 52.5224 - val_mae: 5.8857\n",
      "Epoch 26/100\n",
      "151/151 [==============================] - 1s 4ms/step - loss: 51.5095 - mae: 5.8129 - val_loss: 52.5957 - val_mae: 5.9473\n",
      "Epoch 27/100\n",
      "151/151 [==============================] - 1s 4ms/step - loss: 51.5075 - mae: 5.8225 - val_loss: 52.6793 - val_mae: 5.8686\n",
      "Epoch 28/100\n",
      "151/151 [==============================] - 1s 4ms/step - loss: 51.5440 - mae: 5.8182 - val_loss: 52.4642 - val_mae: 5.8214\n",
      "Epoch 29/100\n",
      "151/151 [==============================] - 1s 4ms/step - loss: 51.4847 - mae: 5.8190 - val_loss: 52.3862 - val_mae: 5.9226\n",
      "Epoch 30/100\n",
      "151/151 [==============================] - 1s 4ms/step - loss: 51.4128 - mae: 5.8037 - val_loss: 54.6522 - val_mae: 6.2211\n",
      "Epoch 31/100\n",
      "151/151 [==============================] - 1s 4ms/step - loss: 51.5499 - mae: 5.8431 - val_loss: 52.6615 - val_mae: 5.7653\n",
      "Epoch 32/100\n",
      "151/151 [==============================] - 1s 4ms/step - loss: 51.4761 - mae: 5.8039 - val_loss: 52.6277 - val_mae: 5.9407\n",
      "Epoch 33/100\n",
      "151/151 [==============================] - 1s 4ms/step - loss: 51.5883 - mae: 5.8302 - val_loss: 52.3692 - val_mae: 5.8268\n",
      "Epoch 34/100\n",
      "151/151 [==============================] - 1s 4ms/step - loss: 51.4776 - mae: 5.8111 - val_loss: 52.7922 - val_mae: 5.7431\n",
      "Epoch 35/100\n",
      "151/151 [==============================] - 1s 4ms/step - loss: 51.4705 - mae: 5.8054 - val_loss: 52.3968 - val_mae: 5.8470\n",
      "Epoch 36/100\n",
      "151/151 [==============================] - 1s 4ms/step - loss: 51.4180 - mae: 5.8160 - val_loss: 53.2728 - val_mae: 6.0411\n",
      "Epoch 37/100\n",
      "151/151 [==============================] - 1s 4ms/step - loss: 51.4840 - mae: 5.8118 - val_loss: 52.6022 - val_mae: 5.9486\n",
      "Epoch 38/100\n",
      "151/151 [==============================] - 1s 4ms/step - loss: 51.5045 - mae: 5.8203 - val_loss: 52.4520 - val_mae: 5.9035\n",
      "Epoch 39/100\n",
      "151/151 [==============================] - 1s 4ms/step - loss: 51.5761 - mae: 5.8189 - val_loss: 52.2731 - val_mae: 5.8548\n",
      "Epoch 40/100\n",
      "151/151 [==============================] - 1s 4ms/step - loss: 51.4312 - mae: 5.8102 - val_loss: 52.2630 - val_mae: 5.8291\n",
      "Epoch 41/100\n",
      "151/151 [==============================] - 1s 4ms/step - loss: 51.3733 - mae: 5.8014 - val_loss: 52.3334 - val_mae: 5.7827\n",
      "Epoch 42/100\n",
      "151/151 [==============================] - 5s 32ms/step - loss: 51.3369 - mae: 5.7998 - val_loss: 52.1178 - val_mae: 5.8390\n",
      "Epoch 43/100\n",
      "151/151 [==============================] - 4s 25ms/step - loss: 51.3778 - mae: 5.7999 - val_loss: 52.3481 - val_mae: 5.8991\n",
      "Epoch 44/100\n",
      "151/151 [==============================] - 1s 4ms/step - loss: 51.3761 - mae: 5.8068 - val_loss: 52.4722 - val_mae: 5.8307\n",
      "Epoch 45/100\n",
      "151/151 [==============================] - 1s 4ms/step - loss: 51.2671 - mae: 5.7997 - val_loss: 52.5022 - val_mae: 5.8161\n",
      "Epoch 46/100\n",
      "151/151 [==============================] - 1s 4ms/step - loss: 51.2551 - mae: 5.8024 - val_loss: 52.7576 - val_mae: 5.7481\n",
      "Epoch 47/100\n",
      "151/151 [==============================] - 1s 4ms/step - loss: 51.3919 - mae: 5.8034 - val_loss: 52.3389 - val_mae: 5.9083\n",
      "Epoch 48/100\n",
      "151/151 [==============================] - 1s 4ms/step - loss: 51.2819 - mae: 5.8078 - val_loss: 52.0654 - val_mae: 5.7941\n",
      "Epoch 49/100\n",
      "151/151 [==============================] - 1s 4ms/step - loss: 51.1770 - mae: 5.7958 - val_loss: 52.2094 - val_mae: 5.8264\n",
      "Epoch 50/100\n",
      "151/151 [==============================] - 1s 4ms/step - loss: 51.3369 - mae: 5.8055 - val_loss: 52.2410 - val_mae: 5.8140\n",
      "Epoch 51/100\n",
      "151/151 [==============================] - 1s 4ms/step - loss: 51.4338 - mae: 5.7961 - val_loss: 53.9027 - val_mae: 6.1282\n",
      "Epoch 52/100\n",
      "151/151 [==============================] - 1s 4ms/step - loss: 51.5551 - mae: 5.8281 - val_loss: 52.5882 - val_mae: 5.9362\n",
      "Epoch 53/100\n",
      "151/151 [==============================] - 1s 4ms/step - loss: 51.1928 - mae: 5.8064 - val_loss: 52.7402 - val_mae: 5.7559\n",
      "Epoch 54/100\n",
      "151/151 [==============================] - 1s 4ms/step - loss: 51.2061 - mae: 5.7880 - val_loss: 52.0854 - val_mae: 5.7647\n",
      "Epoch 55/100\n",
      "151/151 [==============================] - 1s 4ms/step - loss: 51.2162 - mae: 5.7913 - val_loss: 52.2763 - val_mae: 5.9195\n",
      "Epoch 56/100\n",
      "151/151 [==============================] - 1s 4ms/step - loss: 51.1600 - mae: 5.8000 - val_loss: 52.1223 - val_mae: 5.8550\n",
      "Epoch 57/100\n",
      "151/151 [==============================] - 1s 4ms/step - loss: 51.1824 - mae: 5.7928 - val_loss: 52.1499 - val_mae: 5.8395\n",
      "Epoch 58/100\n",
      "151/151 [==============================] - 1s 4ms/step - loss: 51.2991 - mae: 5.8075 - val_loss: 52.4761 - val_mae: 5.8289\n",
      "Epoch 59/100\n",
      "151/151 [==============================] - 1s 4ms/step - loss: 51.3365 - mae: 5.8105 - val_loss: 52.2070 - val_mae: 5.8566\n",
      "Epoch 60/100\n",
      "151/151 [==============================] - 1s 4ms/step - loss: 51.1998 - mae: 5.8003 - val_loss: 52.3704 - val_mae: 5.8978\n",
      "Epoch 61/100\n",
      "151/151 [==============================] - 1s 4ms/step - loss: 51.3021 - mae: 5.8055 - val_loss: 52.4197 - val_mae: 5.9455\n",
      "Epoch 62/100\n",
      "151/151 [==============================] - 1s 4ms/step - loss: 51.4442 - mae: 5.8172 - val_loss: 52.4716 - val_mae: 5.8264\n",
      "Epoch 63/100\n",
      "151/151 [==============================] - 1s 4ms/step - loss: 51.2981 - mae: 5.8006 - val_loss: 52.4599 - val_mae: 5.8419\n",
      "Epoch 64/100\n",
      "151/151 [==============================] - 1s 4ms/step - loss: 51.3822 - mae: 5.8159 - val_loss: 52.5183 - val_mae: 5.8001\n",
      "Epoch 65/100\n",
      "151/151 [==============================] - 1s 4ms/step - loss: 51.3613 - mae: 5.7974 - val_loss: 52.2963 - val_mae: 5.8792\n",
      "Epoch 66/100\n",
      "151/151 [==============================] - 1s 4ms/step - loss: 51.3542 - mae: 5.8028 - val_loss: 52.4485 - val_mae: 5.8843\n",
      "Epoch 67/100\n",
      "151/151 [==============================] - 1s 4ms/step - loss: 51.3384 - mae: 5.7962 - val_loss: 53.1050 - val_mae: 6.0292\n",
      "Epoch 68/100\n",
      "151/151 [==============================] - 1s 4ms/step - loss: 51.3019 - mae: 5.8094 - val_loss: 52.4522 - val_mae: 5.9298\n",
      "Epoch 69/100\n",
      "151/151 [==============================] - 1s 4ms/step - loss: 51.4118 - mae: 5.8049 - val_loss: 52.3190 - val_mae: 5.9124\n",
      "Epoch 70/100\n",
      "151/151 [==============================] - 1s 4ms/step - loss: 51.2369 - mae: 5.7988 - val_loss: 52.1741 - val_mae: 5.7697\n",
      "Epoch 71/100\n",
      "151/151 [==============================] - 1s 4ms/step - loss: 51.2994 - mae: 5.8026 - val_loss: 52.1161 - val_mae: 5.8485\n",
      "Epoch 72/100\n",
      "151/151 [==============================] - 1s 4ms/step - loss: 51.2976 - mae: 5.7960 - val_loss: 52.3414 - val_mae: 5.9084\n",
      "Epoch 73/100\n",
      "151/151 [==============================] - 1s 4ms/step - loss: 51.4145 - mae: 5.8118 - val_loss: 52.0343 - val_mae: 5.8021\n",
      "Epoch 74/100\n",
      "151/151 [==============================] - 1s 4ms/step - loss: 51.2862 - mae: 5.8002 - val_loss: 52.5416 - val_mae: 5.9327\n",
      "Epoch 75/100\n",
      "151/151 [==============================] - 1s 4ms/step - loss: 51.4402 - mae: 5.8133 - val_loss: 52.1372 - val_mae: 5.8791\n",
      "Epoch 76/100\n",
      "151/151 [==============================] - 1s 4ms/step - loss: 51.3267 - mae: 5.8058 - val_loss: 52.4257 - val_mae: 5.8432\n",
      "Epoch 77/100\n",
      "151/151 [==============================] - 1s 3ms/step - loss: 51.3721 - mae: 5.8044 - val_loss: 52.2806 - val_mae: 5.8079\n",
      "Epoch 78/100\n",
      "151/151 [==============================] - 1s 3ms/step - loss: 51.3174 - mae: 5.7892 - val_loss: 52.4279 - val_mae: 5.8517\n",
      "Epoch 79/100\n",
      "151/151 [==============================] - 1s 3ms/step - loss: 51.2371 - mae: 5.7936 - val_loss: 52.7114 - val_mae: 5.9870\n",
      "Epoch 80/100\n",
      "151/151 [==============================] - 1s 3ms/step - loss: 51.2673 - mae: 5.7998 - val_loss: 52.9101 - val_mae: 6.0063\n",
      "Epoch 81/100\n",
      "151/151 [==============================] - 1s 3ms/step - loss: 51.1155 - mae: 5.7934 - val_loss: 52.7198 - val_mae: 5.9884\n",
      "Epoch 82/100\n",
      "151/151 [==============================] - 1s 4ms/step - loss: 51.2761 - mae: 5.8030 - val_loss: 52.7710 - val_mae: 5.9590\n",
      "Epoch 83/100\n",
      "151/151 [==============================] - 1s 4ms/step - loss: 51.1904 - mae: 5.8021 - val_loss: 52.2929 - val_mae: 5.9189\n",
      "Epoch 84/100\n",
      "151/151 [==============================] - 1s 3ms/step - loss: 51.1706 - mae: 5.7881 - val_loss: 52.4478 - val_mae: 5.7941\n",
      "Epoch 85/100\n",
      "151/151 [==============================] - 1s 3ms/step - loss: 51.0149 - mae: 5.7894 - val_loss: 52.2868 - val_mae: 5.7192\n",
      "Epoch 86/100\n",
      "151/151 [==============================] - 1s 3ms/step - loss: 51.0367 - mae: 5.7671 - val_loss: 51.9441 - val_mae: 5.8106\n",
      "Epoch 87/100\n",
      "151/151 [==============================] - 1s 4ms/step - loss: 51.2196 - mae: 5.7869 - val_loss: 52.1828 - val_mae: 5.8775\n",
      "Epoch 88/100\n",
      "151/151 [==============================] - 1s 4ms/step - loss: 51.1109 - mae: 5.7838 - val_loss: 52.5403 - val_mae: 5.9186\n",
      "Epoch 89/100\n",
      "151/151 [==============================] - 1s 4ms/step - loss: 51.2186 - mae: 5.7893 - val_loss: 52.3319 - val_mae: 5.8114\n",
      "Epoch 90/100\n",
      "151/151 [==============================] - 1s 4ms/step - loss: 51.0342 - mae: 5.7725 - val_loss: 52.5576 - val_mae: 5.9177\n",
      "Epoch 91/100\n",
      "151/151 [==============================] - 1s 3ms/step - loss: 51.1101 - mae: 5.7958 - val_loss: 52.2102 - val_mae: 5.8310\n",
      "Epoch 92/100\n",
      "151/151 [==============================] - 1s 4ms/step - loss: 51.0193 - mae: 5.7910 - val_loss: 52.3165 - val_mae: 5.8612\n",
      "Epoch 93/100\n",
      "151/151 [==============================] - 1s 4ms/step - loss: 50.9369 - mae: 5.7696 - val_loss: 52.5863 - val_mae: 5.8542\n",
      "Epoch 94/100\n",
      "151/151 [==============================] - 1s 4ms/step - loss: 51.3177 - mae: 5.7949 - val_loss: 52.0917 - val_mae: 5.8841\n",
      "Epoch 95/100\n",
      "151/151 [==============================] - 1s 4ms/step - loss: 51.1680 - mae: 5.7976 - val_loss: 52.3609 - val_mae: 5.8535\n",
      "Epoch 96/100\n",
      "151/151 [==============================] - 1s 3ms/step - loss: 51.0397 - mae: 5.7919 - val_loss: 52.0616 - val_mae: 5.7928\n",
      "Epoch 97/100\n",
      "151/151 [==============================] - 1s 3ms/step - loss: 50.8984 - mae: 5.7774 - val_loss: 52.1160 - val_mae: 5.7974\n",
      "Epoch 98/100\n",
      "151/151 [==============================] - 1s 3ms/step - loss: 51.1357 - mae: 5.7885 - val_loss: 52.0425 - val_mae: 5.9217\n",
      "Epoch 99/100\n",
      "151/151 [==============================] - 1s 4ms/step - loss: 51.0654 - mae: 5.7908 - val_loss: 51.8648 - val_mae: 5.8375\n",
      "Epoch 100/100\n",
      "151/151 [==============================] - 1s 4ms/step - loss: 50.8692 - mae: 5.7746 - val_loss: 52.3230 - val_mae: 5.7146\n",
      "38/38 [==============================] - 0s 1ms/step\n"
     ]
    }
   ],
   "source": [
    "\"\"\"\n",
    "    Deep Learning - Best Hyper-parameters(literature)\n",
    "\"\"\"\n",
    "X_train_dl=np.asarray(X_train).astype(int)\n",
    "y_train_dl=np.asarray(y_train).astype(int)\n",
    "X_test_dl=np.asarray(X_test).astype(int)\n",
    "y_test_dl=np.asarray(y_test).astype(int)\n",
    "\n",
    "model_dl = dl()\n",
    "history = model_dl.fit(X_train_dl, y_train_dl,\n",
    "                        validation_data=(X_test_dl, y_test_dl),\n",
    "                        epochs=100)\n",
    "y_predicted_dl = model_dl.predict(X_test_dl)\n",
    "y_predicted_dl = [i[0].astype(float) for i in y_predicted_dl]\n",
    "        \n",
    "mae_dl = round(mean_absolute_error(y_test, y_predicted_dl), 3)\n",
    "rmse_dl = round(np.square(mean_squared_error(y_test, y_predicted_dl)), 3)\n",
    "r2_dl = round(r2_score(y_test,y_predicted_dl), 3)"
   ]
  },
  {
   "cell_type": "code",
   "execution_count": 278,
   "id": "814e1e9e",
   "metadata": {},
   "outputs": [
    {
     "data": {
      "text/plain": [
       "-0.001"
      ]
     },
     "execution_count": 278,
     "metadata": {},
     "output_type": "execute_result"
    }
   ],
   "source": [
    "r2_dl"
   ]
  },
  {
   "cell_type": "code",
   "execution_count": 279,
   "id": "df9e15c9",
   "metadata": {},
   "outputs": [
    {
     "data": {
      "image/png": "[encoded data removed]",
      "text/plain": [
       "<Figure size 432x288 with 1 Axes>"
      ]
     },
     "metadata": {
      "needs_background": "light"
     },
     "output_type": "display_data"
    }
   ],
   "source": [
    "#Visualising the Acutal and predicted Result of first 30 examples\n",
    "plt.plot(y_test[:30], color = 'red', label = 'Actual')\n",
    "plt.plot(y_predicted_dl[:30], color = 'blue', label = 'Predicted')\n",
    "plt.xlabel('Number of Candidate')\n",
    "plt.ylabel('LOS')\n",
    "plt.title('Actual vs Predicted')\n",
    "plt.legend()\n",
    "plt.show()"
   ]
  },
  {
   "cell_type": "code",
   "execution_count": 280,
   "id": "7c4d291d",
   "metadata": {},
   "outputs": [
    {
     "data": {
      "image/png": "[encoded data removed]",
      "text/plain": [
       "<Figure size 432x288 with 1 Axes>"
      ]
     },
     "metadata": {
      "needs_background": "light"
     },
     "output_type": "display_data"
    }
   ],
   "source": [
    "plt.title('Loss / Mean Squared Error')\n",
    "plt.plot(history.history['loss'], label='train')\n",
    "plt.plot(history.history['val_loss'], label='test')\n",
    "plt.legend()\n",
    "plt.show()"
   ]
  },
  {
   "cell_type": "code",
   "execution_count": 281,
   "id": "0e35fe9c",
   "metadata": {},
   "outputs": [
    {
     "data": {
      "text/plain": [
       "0.021"
      ]
     },
     "execution_count": 281,
     "metadata": {},
     "output_type": "execute_result"
    }
   ],
   "source": [
    "\"\"\"\n",
    "    MLPRegressor - Best Hyper-parameters  | {'activation': 'tanh', 'alpha': 0.0001\n",
    "                            , 'hidden_layer_sizes': (32, 12), 'learning_rate': 'constant', 'solver': 'adam'}\n",
    "\"\"\"\n",
    "\n",
    "final_mlp = MLPRegressor(solver='adam',   #  ‘lbfgs’, ‘sgd’, ‘adam’ (default)\n",
    "                   alpha=0.001,     # used for regularization, ovoiding overfitting by penalizing large magnitudes\n",
    "                   hidden_layer_sizes=(32, 32), \n",
    "                   activation='tanh', # ‘identity’, ‘logistic’, ‘tanh’, ‘relu’ (default)\n",
    "                   learning_rate = 'constant',\n",
    "                    max_iter=2000)\n",
    "\n",
    "final_mlp.fit(X_train, y_train)\n",
    "y_pred_mlp = final_mlp.predict(X_test)\n",
    "\n",
    "mae_mlp = round(mean_absolute_error(y_test, y_pred_mlp), 3)\n",
    "rmse_mlp = round(np.square(mean_squared_error(y_test, y_pred_mlp)), 3)\n",
    "r2_mlp = round(r2_score(y_test,y_pred_mlp), 3)\n",
    "r2_mlp"
   ]
  },
  {
   "cell_type": "code",
   "execution_count": 282,
   "id": "5e75ccda",
   "metadata": {},
   "outputs": [
    {
     "data": {
      "image/png": "[encoded data removed]",
      "text/plain": [
       "<Figure size 432x288 with 1 Axes>"
      ]
     },
     "metadata": {
      "needs_background": "light"
     },
     "output_type": "display_data"
    }
   ],
   "source": [
    "plt.plot(final_mlp.loss_curve_)\n",
    "plt.title(\"Loss Curve - MLP\", fontsize=14)\n",
    "plt.xlabel('Iterations')\n",
    "plt.ylabel('Cost')\n",
    "plt.show()"
   ]
  },
  {
   "cell_type": "code",
   "execution_count": 283,
   "id": "5faacced",
   "metadata": {},
   "outputs": [
    {
     "data": {
      "image/png": "[encoded data removed]",
      "text/plain": [
       "<Figure size 432x288 with 1 Axes>"
      ]
     },
     "metadata": {
      "needs_background": "light"
     },
     "output_type": "display_data"
    }
   ],
   "source": [
    "#Visualising the Acutal and predicted Result of first 30 examples\n",
    "plt.plot(y_test[:30], color = 'red', label = 'Actual')\n",
    "plt.plot(y_pred_mlp[:30], color = 'blue', label = 'Predicted')\n",
    "plt.xlabel('Number of Candidate')\n",
    "plt.ylabel('LOS')\n",
    "plt.title('Actual vs Predicted')\n",
    "plt.legend()\n",
    "plt.show()"
   ]
  },
  {
   "cell_type": "code",
   "execution_count": 284,
   "id": "b35396fe",
   "metadata": {},
   "outputs": [
    {
     "name": "stdout",
     "output_type": "stream",
     "text": [
      "0.091\n"
     ]
    }
   ],
   "source": [
    "\"\"\"\n",
    "    Random Forest - Best Hyper-parameters\n",
    "\"\"\"\n",
    "\n",
    "r_forest_final = RandomForestRegressor(n_estimators=1000, min_samples_split=12, min_samples_leaf=5, max_depth=90)\n",
    "\n",
    "r_forest_final.fit(X_train, y_train)\n",
    "y_pred_rf = r_forest_final.predict(X_test)\n",
    "\n",
    "mae_rf = round(mean_absolute_error(y_test, y_pred_rf), 3)\n",
    "rmse_rf = round(np.square(mean_squared_error(y_test, y_pred_rf)), 3)\n",
    "r2_rf = round(r2_score(y_test,y_pred_rf), 3)\n",
    "print(r2_rf)"
   ]
  },
  {
   "cell_type": "code",
   "execution_count": 285,
   "id": "ffdd0f7d",
   "metadata": {},
   "outputs": [
    {
     "data": {
      "image/png": "[encoded data removed]",
      "text/plain": [
       "<Figure size 432x288 with 1 Axes>"
      ]
     },
     "metadata": {
      "needs_background": "light"
     },
     "output_type": "display_data"
    }
   ],
   "source": [
    "#Visualising the Acutal and predicted Result of first 30 examples\n",
    "plt.plot(y_test[:30], color = 'red', label = 'Actual')\n",
    "plt.plot(y_pred_rf[:30], color = 'blue', label = 'Predicted')\n",
    "plt.xlabel('Number of Candidate')\n",
    "plt.ylabel('LOS')\n",
    "plt.title('Actual vs Predicted')\n",
    "plt.legend()\n",
    "plt.show()"
   ]
  },
  {
   "cell_type": "code",
   "execution_count": 286,
   "id": "2edaa805",
   "metadata": {},
   "outputs": [
    {
     "name": "stdout",
     "output_type": "stream",
     "text": [
      "0.029\n"
     ]
    }
   ],
   "source": [
    "\"\"\"\n",
    "    Linear Regression - Best Hyper-parameters\n",
    "\"\"\"\n",
    "\n",
    "final_linear = Lasso(alpha=0.01)\n",
    "\n",
    "final_linear.fit(X_train, y_train)\n",
    "y_pred_linear = final_linear.predict(X_test)\n",
    "\n",
    "mae_linear = round(mean_absolute_error(y_test, y_pred_linear), 3)\n",
    "rmse_linear = round(np.square(mean_squared_error(y_test, y_pred_linear)), 3)\n",
    "r2_linear = round(r2_score(y_test,y_pred_linear), 3)\n",
    "print(r2_linear)"
   ]
  },
  {
   "cell_type": "code",
   "execution_count": 287,
   "id": "349d5a2e",
   "metadata": {},
   "outputs": [
    {
     "data": {
      "image/png": "[encoded data removed]",
      "text/plain": [
       "<Figure size 432x288 with 1 Axes>"
      ]
     },
     "metadata": {
      "needs_background": "light"
     },
     "output_type": "display_data"
    }
   ],
   "source": [
    "#Visualising the Acutal and predicted Result of first 30 examples\n",
    "plt.plot(y_test[:30], color = 'red', label = 'Actual')\n",
    "plt.plot(y_pred_linear[:30], color = 'blue', label = 'Predicted')\n",
    "plt.xlabel('Number of Candidate')\n",
    "plt.ylabel('LOS')\n",
    "plt.title('Actual vs Predicted')\n",
    "plt.legend()\n",
    "plt.show()"
   ]
  },
  {
   "cell_type": "markdown",
   "id": "41185c9f",
   "metadata": {},
   "source": [
    "### Results visualization"
   ]
  },
  {
   "cell_type": "code",
   "execution_count": 288,
   "id": "bba2db7c",
   "metadata": {},
   "outputs": [
    {
     "data": {
      "image/png": "[encoded data removed]",
      "text/plain": [
       "<Figure size 720x360 with 1 Axes>"
      ]
     },
     "metadata": {
      "needs_background": "light"
     },
     "output_type": "display_data"
    }
   ],
   "source": [
    "\"\"\"\n",
    "    Compare MAPE scores\n",
    "\"\"\"\n",
    "\n",
    "values = [mae_dl, mae_mlp, mae_rf, mae_linear]\n",
    "models = [\"Deep Learning\", \"ANN\", \"Random Forest\", \"Linear Regression\"]\n",
    "\n",
    "fig = plt.figure(figsize = (10, 5))\n",
    "#  Bar plot\n",
    "plt.bar(models, values, color ='blue',\n",
    "        width = 0.5)\n",
    "plt.xlabel(\"Models\")\n",
    "plt.ylabel(\"MAE Score\")\n",
    "plt.title(\"MAE scores comparison\")\n",
    "#plt.ylim(0,200)\n",
    "plt.show()"
   ]
  },
  {
   "cell_type": "code",
   "execution_count": 289,
   "id": "62f60a59",
   "metadata": {},
   "outputs": [
    {
     "data": {
      "image/png": "[encoded data removed]",
      "text/plain": [
       "<Figure size 720x360 with 1 Axes>"
      ]
     },
     "metadata": {
      "needs_background": "light"
     },
     "output_type": "display_data"
    }
   ],
   "source": [
    "\"\"\"\n",
    "    Compare MSPE scores\n",
    "\"\"\"\n",
    "\n",
    "values = [rmse_dl, rmse_mlp, rmse_rf, rmse_linear]\n",
    "models = [\"Deep Learning\", \"ANN\", \"Random Forest\", \"Linear Regression\"]\n",
    "\n",
    "fig = plt.figure(figsize = (10, 5))\n",
    "#  Bar plot\n",
    "plt.bar(models, values, color ='red',\n",
    "        width = 0.5)\n",
    "plt.xlabel(\"Models\")\n",
    "plt.ylabel(\"RMSE Score\")\n",
    "plt.title(\"RMSE scores comparison\")\n",
    "#plt.ylim(0,1000)\n",
    "plt.show()"
   ]
  },
  {
   "cell_type": "code",
   "execution_count": 290,
   "id": "e831ca2b",
   "metadata": {},
   "outputs": [
    {
     "data": {
      "image/png": "[encoded data removed]",
      "text/plain": [
       "<Figure size 720x360 with 1 Axes>"
      ]
     },
     "metadata": {
      "needs_background": "light"
     },
     "output_type": "display_data"
    }
   ],
   "source": [
    "\"\"\"\n",
    "    Compare R2 values\n",
    "\"\"\"\n",
    "\n",
    "values = [r2_dl, r2_mlp, r2_rf, r2_linear]\n",
    "models = [\"Deep Learning\", \"ANN\", \"Random Forest\", \"Linear Regression\"]\n",
    "\n",
    "fig = plt.figure(figsize = (10, 5))\n",
    "#  Bar plot\n",
    "plt.bar(models, values, color ='green',\n",
    "        width = 0.5)\n",
    "plt.xlabel(\"Models\")\n",
    "plt.ylabel(\"R2 values\")\n",
    "plt.title(\"R2 values comparison\")\n",
    "#plt.ylim(0.0,1)\n",
    "plt.show()"
   ]
  },
  {
   "cell_type": "code",
   "execution_count": 178,
   "id": "404169da",
   "metadata": {},
   "outputs": [],
   "source": [
    "columns = ('R2', 'MPE', 'RMSE')\n",
    "rows = ['DL', 'ANN', 'RF', 'LR']\n",
    "data = [[r2_dl, mae_dl, rmse_dl],\n",
    "        [r2_mlp, mae_mlp, rmse_mlp],\n",
    "        [r2_rf, mae_rf, rmse_rf], \n",
    "        [r2_linear, mae_linear, rmse_linear]]"
   ]
  },
  {
   "cell_type": "code",
   "execution_count": 179,
   "id": "c3feebba",
   "metadata": {},
   "outputs": [
    {
     "data": {
      "image/png": "[encoded data removed]",
      "text/plain": [
       "<Figure size 432x288 with 1 Axes>"
      ]
     },
     "metadata": {
      "needs_background": "light"
     },
     "output_type": "display_data"
    }
   ],
   "source": [
    "rcolors = plt.cm.BuPu(np.full(len(rows), 0.1))\n",
    "ccolors = plt.cm.BuPu(np.full(len(data), 0.1))\n",
    "\n",
    "fig, ax = plt.subplots() \n",
    "ax.set_axis_off() \n",
    "table = ax.table( \n",
    "    cellText = data,  \n",
    "    rowLabels = rows,  \n",
    "    colLabels = columns, \n",
    "    rowColours=rcolors,\n",
    "                      rowLoc='right',\n",
    "                      colColours=ccolors,\n",
    "                      loc='center')         \n",
    "   \n",
    "ax.set_title('', \n",
    "             fontweight =\"bold\") \n",
    "   \n",
    "plt.show() "
   ]
  },
  {
   "cell_type": "code",
   "execution_count": null,
   "id": "79d9360d",
   "metadata": {},
   "outputs": [],
   "source": []
  }
 ],
 "metadata": {
  "kernelspec": {
   "display_name": "Python 3 (ipykernel)",
   "language": "python",
   "name": "python3"
  },
  "language_info": {
   "codemirror_mode": {
    "name": "ipython",
    "version": 3
   },
   "file_extension": ".py",
   "mimetype": "text/x-python",
   "name": "python",
   "nbconvert_exporter": "python",
   "pygments_lexer": "ipython3",
   "version": "3.9.13"
  }
 },
 "nbformat": 4,
 "nbformat_minor": 5
}
